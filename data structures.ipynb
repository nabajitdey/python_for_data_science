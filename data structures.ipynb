{
 "cells": [
  {
   "attachments": {},
   "cell_type": "markdown",
   "metadata": {},
   "source": [
    "## Python Data Structures"
   ]
  },
  {
   "attachments": {},
   "cell_type": "markdown",
   "metadata": {},
   "source": [
    "## Lists\n",
    "\n",
    "In Python, a list is an ordered collection of items. It is one of the most commonly used data structures in Python and provides various methods for storing, accessing, and manipulating elements. Here are some key aspects of Python lists:\n",
    "\n",
    "1. Ordered Collection: Lists maintain the order in which elements are added, allowing you to access and retrieve items based on their position in the list. The first item has an index of 0, the second item has an index of 1, and so on.\n",
    "\n",
    "2. Mutable: Lists are mutable, meaning you can modify, add, or remove elements after the list is created. This flexibility allows you to update the list as needed.\n",
    "\n",
    "3. Heterogeneous Elements: Lists can contain elements of different data types, including numbers, strings, booleans, objects, and even other lists. This versatility makes lists a flexible data structure for storing and organizing diverse data.\n",
    "\n",
    "4. Accessing Elements: You can access individual elements of a list using indexing. Positive indexing starts from 0 for the first element, and negative indexing allows you to access elements from the end of the list.\n",
    "\n",
    "5. List Operations: Lists support various operations such as concatenation (`+`), repetition (`*`), membership testing (`in` and `not in`), slicing (extracting a portion of the list), and finding the length using the `len()` function.\n",
    "\n",
    "6. List Methods: Python provides a rich set of built-in methods for performing operations on lists. These methods include `append()`, `insert()`, `remove()`, `pop()`, `sort()`, `reverse()`, `index()`, and more. These methods allow you to add, remove, search, sort, and manipulate elements within the list.\n",
    "\n",
    "7. List Comprehension: List comprehension is a concise way to create new lists based on existing lists. It allows you to apply transformations and filtering conditions to generate a new list in a single line of code.\n",
    "\n",
    "8. Nesting Lists: Lists can be nested, meaning you can have lists within lists. This enables you to create more complex data structures to represent hierarchical or multidimensional data.\n",
    "\n",
    "9. List Mutability: The mutability of lists allows you to modify the existing elements or change the order of the elements within the list. This is a significant advantage over other immutable data structures like tuples or strings.\n",
    "\n",
    "10. Memory Efficiency: Lists in Python consume memory based on the number of elements they contain. However, lists can dynamically grow or shrink in size, which provides flexibility in managing memory resources.\n",
    "\n",
    "Python lists are versatile and widely used for storing and manipulating collections of data. Whether you need to store a simple sequence of elements or build complex data structures, lists offer a convenient and efficient way to work with ordered collections in Python."
   ]
  },
  {
   "cell_type": "code",
   "execution_count": 19,
   "metadata": {},
   "outputs": [
    {
     "name": "stdout",
     "output_type": "stream",
     "text": [
      "[1, 2, 3, 4, 5]\n",
      "['apple', 'banana', 'cherry']\n"
     ]
    }
   ],
   "source": [
    "# 1. Creating Lists:\n",
    "# Lists can be created using square brackets `[]` or the `list()` constructor.\n",
    "\n",
    "# Creating a list using square brackets\n",
    "list1 = [1, 2, 3, 4, 5]\n",
    "print(list1)\n",
    "\n",
    "# Creating a list using the list() constructor\n",
    "list2 = list(['apple', 'banana', 'cherry'])\n",
    "print(list2)\n"
   ]
  },
  {
   "cell_type": "code",
   "execution_count": 20,
   "metadata": {},
   "outputs": [
    {
     "name": "stdout",
     "output_type": "stream",
     "text": [
      "1\n",
      "cherry\n"
     ]
    }
   ],
   "source": [
    "# 2. Accessing Elements:\n",
    "# You can access individual elements of a list using indexing, starting from 0.\n",
    "\n",
    "# Accessing elements of a list\n",
    "print(list1[0])  # Output: 1\n",
    "print(list2[2])  # Output: cherry\n",
    "\n"
   ]
  },
  {
   "cell_type": "code",
   "execution_count": 21,
   "metadata": {},
   "outputs": [
    {
     "name": "stdout",
     "output_type": "stream",
     "text": [
      "[1, 2, 10, 4, 5]\n"
     ]
    }
   ],
   "source": [
    "# 3. Modifying Elements:\n",
    "# Lists are mutable, so you can modify the elements of a list.\n",
    "\n",
    "# Modifying elements of a list\n",
    "list1[2] = 10\n",
    "print(list1)  # Output: [1, 2, 10, 4, 5]\n",
    "\n"
   ]
  },
  {
   "cell_type": "code",
   "execution_count": 22,
   "metadata": {},
   "outputs": [
    {
     "name": "stdout",
     "output_type": "stream",
     "text": [
      "['apple', 'banana', 'cherry', 'date']\n",
      "[1, 2, 10, 5]\n"
     ]
    }
   ],
   "source": [
    "# 4. Adding and Removing Elements:\n",
    "# You can add new elements to a list or remove existing elements.\n",
    "\n",
    "# Adding elements to a list\n",
    "list2.append('date')\n",
    "print(list2)  # Output: ['apple', 'banana', 'cherry', 'date']\n",
    "\n",
    "# Removing elements from a list\n",
    "list1.remove(4)\n",
    "print(list1)  # Output: [1, 2, 10, 5]\n",
    "\n"
   ]
  },
  {
   "cell_type": "code",
   "execution_count": 23,
   "metadata": {},
   "outputs": [
    {
     "name": "stdout",
     "output_type": "stream",
     "text": [
      "[2, 10]\n"
     ]
    }
   ],
   "source": [
    "# 5. Slicing a List:\n",
    "# You can extract a subset of elements from a list using slicing.\n",
    "\n",
    "# Slicing a list\n",
    "subset = list1[1:3]\n",
    "print(subset)  # Output: [2, 10]\n",
    "\n"
   ]
  },
  {
   "cell_type": "code",
   "execution_count": 24,
   "metadata": {},
   "outputs": [
    {
     "name": "stdout",
     "output_type": "stream",
     "text": [
      "[1, 2, 10, 5, 'apple', 'banana', 'cherry', 'date']\n"
     ]
    }
   ],
   "source": [
    "# 6. List Concatenation:\n",
    "# Lists can be concatenated using the `+` operator.\n",
    "\n",
    "# Concatenating lists\n",
    "new_list = list1 + list2\n",
    "print(new_list)  # Output: [1, 2, 10, 5, 'apple', 'banana', 'cherry', 'date']\n",
    "\n"
   ]
  },
  {
   "cell_type": "code",
   "execution_count": 25,
   "metadata": {},
   "outputs": [
    {
     "name": "stdout",
     "output_type": "stream",
     "text": [
      "4\n",
      "[1, 2, 10, 5, 6, 7]\n",
      "[1, 2, 3, 10, 5, 6, 7]\n",
      "[1, 2, 10, 5, 6, 7]\n"
     ]
    }
   ],
   "source": [
    "# 7. List Methods:\n",
    "# Python provides various built-in methods for working with lists, such as `append()`, `extend()`, `insert()`, `remove()`, `pop()`, `index()`, `count()`, `sort()`, `reverse()`, and more.\n",
    "\n",
    "# Getting the length of a list\n",
    "print(len(list1))  # Output: 4\n",
    "\n",
    "# Appending multiple elements to a list\n",
    "list1.extend([6, 7])\n",
    "print(list1)  # Output: [1, 2, 10, 5, 6, 7]\n",
    "\n",
    "# Inserting an element at a specific index\n",
    "list1.insert(2, 3)\n",
    "print(list1)  # Output: [1, 2, 3, 10, 5, 6, 7]\n",
    "\n",
    "# Removing an element by value\n",
    "list1.remove(3)\n",
    "print(list1)  # Output: [1, 2, 10, 5, 6, 7]\n",
    "\n"
   ]
  },
  {
   "cell_type": "code",
   "execution_count": 26,
   "metadata": {},
   "outputs": [
    {
     "name": "stdout",
     "output_type": "stream",
     "text": [
      "[1, 4, 100, 25, 36, 49]\n"
     ]
    }
   ],
   "source": [
    "# 8. List Comprehensions:\n",
    "# Python supports list comprehensions, which allow you to create lists using concise and expressive syntax.\n",
    "\n",
    "# Creating a new list using list comprehension\n",
    "squared_list = [x**2 for x in list1]\n",
    "print(squared_list)  # Output: [1, 4, 100, 25, 36, 49]"
   ]
  },
  {
   "attachments": {},
   "cell_type": "markdown",
   "metadata": {},
   "source": [
    "## Sets\n",
    "\n",
    "In Python, a set is an unordered collection of unique elements. It is defined by enclosing comma-separated values in curly braces `{}` or by using the `set()` function. Here are some key aspects of Python sets:\n",
    "\n",
    "1. Unique Elements: Sets only contain unique elements. If you try to add duplicate elements to a set, they will be automatically removed, ensuring that each element appears only once.\n",
    "\n",
    "2. Mutable: Sets are mutable, meaning you can add and remove elements from a set after it is created.\n",
    "\n",
    "3. Unordered: Sets do not preserve the order of elements. The elements are stored in an arbitrary order, and the order can change whenever the set is modified.\n",
    "\n",
    "4. Membership Testing: Sets are efficient for membership testing. You can quickly check if an element is present in a set using the `in` and `not in` operators.\n",
    "\n",
    "5. Mathematical Set Operations: Sets support various mathematical set operations, such as union (`|`), intersection (`&`), difference (`-`), and symmetric difference (`^`). These operations allow you to combine, compare, and manipulate sets.\n",
    "\n",
    "6. Set Methods: Python provides several built-in methods to perform common operations on sets. These methods include `add()`, `remove()`, `discard()`, `pop()`, `clear()`, `update()`, `intersection()`, `union()`, and more.\n",
    "\n",
    "7. Immutable Elements: Elements of a set must be immutable objects. Immutable objects, such as numbers, strings, and tuples, can be stored in sets. Mutable objects, such as lists and dictionaries, cannot be stored in sets.\n",
    "\n",
    "8. Set Comprehension: Similar to list comprehension, set comprehension allows you to create sets in a concise manner using a loop and conditional expressions.\n",
    "\n",
    "9. Use Cases: Sets are commonly used for tasks that involve finding unique elements, removing duplicates, performing set operations, and testing membership. They can be useful for tasks like counting distinct items, filtering out duplicates, or determining common elements between multiple sets.\n",
    "\n",
    "Python sets are a powerful tool for working with collections of unique elements and performing set-related operations. Their ability to quickly test for membership and perform mathematical set operations makes them useful in a variety of scenarios."
   ]
  },
  {
   "cell_type": "code",
   "execution_count": 27,
   "metadata": {},
   "outputs": [
    {
     "name": "stdout",
     "output_type": "stream",
     "text": [
      "{1, 2, 3, 4, 5}\n",
      "{5, 6, 7, 8, 9}\n"
     ]
    }
   ],
   "source": [
    "# 1. Creating Sets:\n",
    "# Sets can be created using curly braces `{}` or the `set()` constructor.\n",
    "\n",
    "# Creating a set using curly braces\n",
    "set1 = {1, 2, 3, 4, 5}\n",
    "print(set1)\n",
    "\n",
    "# Creating a set using the set() constructor\n",
    "set2 = set([5, 6, 7, 8, 9])\n",
    "print(set2)\n"
   ]
  },
  {
   "cell_type": "code",
   "execution_count": 28,
   "metadata": {},
   "outputs": [
    {
     "name": "stdout",
     "output_type": "stream",
     "text": [
      "{1, 2, 3, 4, 5}\n"
     ]
    }
   ],
   "source": [
    "# 2. Unique Elements:\n",
    "# Sets contain only unique elements. Duplicate elements are automatically removed.\n",
    "\n",
    "# Creating a set with duplicate elements\n",
    "set3 = {1, 2, 2, 3, 3, 4, 5}\n",
    "print(set3)  # Output: {1, 2, 3, 4, 5}\n",
    "\n"
   ]
  },
  {
   "cell_type": "code",
   "execution_count": 29,
   "metadata": {},
   "outputs": [
    {
     "name": "stdout",
     "output_type": "stream",
     "text": [
      "{1, 2, 3, 4, 5, 6}\n",
      "{6, 7, 8, 9}\n"
     ]
    }
   ],
   "source": [
    "# 3. Modifying Sets:\n",
    "# Sets are mutable, allowing you to add and remove elements.\n",
    "\n",
    "# Adding elements to a set\n",
    "set1.add(6)\n",
    "print(set1)  # Output: {1, 2, 3, 4, 5, 6}\n",
    "\n",
    "# Removing elements from a set\n",
    "set2.remove(5)\n",
    "print(set2)  # Output: {6, 7, 8, 9}\n",
    "\n"
   ]
  },
  {
   "cell_type": "code",
   "execution_count": 30,
   "metadata": {},
   "outputs": [
    {
     "name": "stdout",
     "output_type": "stream",
     "text": [
      "{1, 2, 3, 4, 5, 6}\n",
      "{4, 5, 6}\n",
      "{1, 2, 3}\n",
      "{1, 2, 3}\n"
     ]
    }
   ],
   "source": [
    "# 4. Set Operations:\n",
    "# Sets support various operations such as union, intersection, difference, and symmetric difference.\n",
    "\n",
    "set3 = {4, 5, 6}\n",
    "\n",
    "# Union of two sets\n",
    "union_set = set1.union(set3)\n",
    "print(union_set)  # Output: {1, 2, 3, 4, 5, 6}\n",
    "\n",
    "# Intersection of two sets\n",
    "intersection_set = set1.intersection(set3)\n",
    "print(intersection_set)  # Output: {4, 5}\n",
    "\n",
    "# Difference between two sets\n",
    "difference_set = set1.difference(set3)\n",
    "print(difference_set)  # Output: {1, 2, 3}\n",
    "\n",
    "# Symmetric difference between two sets\n",
    "symmetric_difference_set = set1.symmetric_difference(set3)\n",
    "print(symmetric_difference_set)  # Output: {1, 2, 3, 6}\n",
    "\n"
   ]
  },
  {
   "cell_type": "code",
   "execution_count": 31,
   "metadata": {},
   "outputs": [
    {
     "name": "stdout",
     "output_type": "stream",
     "text": [
      "True\n",
      "False\n",
      "1\n",
      "2\n",
      "3\n",
      "4\n",
      "5\n",
      "6\n"
     ]
    }
   ],
   "source": [
    "# 5. Set Membership and Iteration:\n",
    "# You can check if an element is present in a set using the `in` keyword. Sets can also be iterated using loops.\n",
    "\n",
    "# Checking membership in a set\n",
    "print(4 in set1)  # Output: True\n",
    "print(9 in set1)  # Output: False\n",
    "\n",
    "# Iterating over a set\n",
    "for element in set1:\n",
    "    print(element)  # Output: 1, 2, 3, 4, 5, 6\n",
    "\n"
   ]
  },
  {
   "cell_type": "code",
   "execution_count": 32,
   "metadata": {},
   "outputs": [
    {
     "name": "stdout",
     "output_type": "stream",
     "text": [
      "6\n",
      "True\n",
      "True\n",
      "True\n",
      "{1, 2, 3, 4, 5, 6}\n"
     ]
    }
   ],
   "source": [
    "# 6. Set Methods:\n",
    "# Python provides various built-in methods for working with sets, such as `add()`, `remove()`, `union()`, `intersection()`, `difference()`, `symmetric_difference()`, `issubset()`, `issuperset()`, `isdisjoint()`, `copy()`, and more.\n",
    "\n",
    "# Getting the length of a set\n",
    "print(len(set1))  # Output: 6\n",
    "\n",
    "# Checking if a set is a subset or superset of another set\n",
    "print(set3.issubset(set1))  # Output: True\n",
    "print(set1.issuperset(set3))  # Output: True\n",
    "\n",
    "# Checking if two sets are disjoint\n",
    "set4 = {7, 8, 9}\n",
    "print(set3.isdisjoint(set4))  # Output: False\n",
    "\n",
    "# Creating a copy of a set\n",
    "set_copy = set1.copy()\n",
    "print(set_copy) "
   ]
  },
  {
   "attachments": {},
   "cell_type": "markdown",
   "metadata": {},
   "source": [
    "## Tuples\n",
    "\n",
    "In Python, a tuple is an ordered, immutable collection of objects. It is similar to a list, but the key difference is that tuples cannot be modified once created. Here are some key aspects of Python tuples:\n",
    "\n",
    "1. Immutable: Tuples are immutable, meaning you cannot add, remove, or modify elements after creating a tuple. Once a tuple is defined, its contents remain fixed.\n",
    "\n",
    "2. Order: Tuples preserve the order of elements, meaning the elements are stored and accessed in the same order as they were defined.\n",
    "\n",
    "3. Heterogeneous Elements: Tuples can contain elements of different data types. For example, a tuple can have a combination of integers, strings, floats, and other objects.\n",
    "\n",
    "4. Accessing Elements: You can access individual elements of a tuple using indexing. Indexing starts from 0 for the first element, and negative indexing allows you to access elements from the end of the tuple.\n",
    "\n",
    "5. Tuple Packing and Unpacking: Tuple packing is the process of creating a tuple by enclosing comma-separated values in parentheses. Tuple unpacking allows you to assign individual elements of a tuple to separate variables.\n",
    "\n",
    "6. Immutability Benefits: The immutability of tuples provides advantages such as data integrity, hashability (tuples can be used as dictionary keys), and the ability to use tuples as elements in sets or as elements in other tuples.\n",
    "\n",
    "7. Tuple Operations: Tuples support operations like concatenation (`+`), repetition (`*`), membership (`in` and `not in`), and finding the length using the `len()` function.\n",
    "\n",
    "8. Tuple Methods: Tuples have a few built-in methods, such as `count()` to count the occurrences of a value and `index()` to find the index of a value.\n",
    "\n",
    "9. Memory Efficiency: Tuples are generally more memory-efficient than lists, as they require less overhead. If you have a collection of values that should not be modified, using a tuple instead of a list can be beneficial.\n",
    "\n",
    "10. Use Cases: Tuples are commonly used when you want to group related data together that should remain unchanged, such as coordinates, database records, or function return values.\n",
    "\n",
    "Python tuples provide a lightweight and efficient way to store and access ordered collections of data. Their immutability makes them suitable for situations where you need to ensure data integrity or use them as dictionary keys."
   ]
  },
  {
   "cell_type": "code",
   "execution_count": 7,
   "metadata": {},
   "outputs": [
    {
     "name": "stdout",
     "output_type": "stream",
     "text": [
      "(1, 2, 3, 4, 5)\n",
      "(6, 7, 8, 9, 10)\n"
     ]
    }
   ],
   "source": [
    "# 1. Creating Tuples:\n",
    "# Tuples can be created using parentheses `()` or the `tuple()` constructor.\n",
    "\n",
    "# Creating a tuple using parentheses\n",
    "tuple1 = (1, 2, 3, 4, 5)\n",
    "print(tuple1)\n",
    "\n",
    "# Creating a tuple using the tuple() constructor\n",
    "tuple2 = tuple([6, 7, 8, 9, 10])\n",
    "print(tuple2)"
   ]
  },
  {
   "cell_type": "code",
   "execution_count": 6,
   "metadata": {},
   "outputs": [
    {
     "name": "stdout",
     "output_type": "stream",
     "text": [
      "1\n",
      "8\n"
     ]
    }
   ],
   "source": [
    "# 2. Accessing Elements:\n",
    "# You can access individual elements of a tuple using indexing, similar to lists.\n",
    "\n",
    "# Accessing elements of a tuple\n",
    "print(tuple1[0])  # Output: 1\n",
    "print(tuple2[2])  # Output: 8\n",
    "\n"
   ]
  },
  {
   "cell_type": "code",
   "execution_count": 8,
   "metadata": {},
   "outputs": [
    {
     "name": "stdout",
     "output_type": "stream",
     "text": [
      "(1, 2, 3)\n",
      "1 2 3\n"
     ]
    }
   ],
   "source": [
    "# 3. Tuple Packing and Unpacking:\n",
    "# Tuple packing allows you to combine multiple values into a single tuple. Tuple unpacking allows you to assign the values of a tuple to individual variables.\n",
    "\n",
    "# Tuple packing\n",
    "tuple3 = 1, 2, 3\n",
    "print(tuple3)  # Output: (1, 2, 3)\n",
    "\n",
    "# Tuple unpacking\n",
    "x, y, z = tuple3\n",
    "print(x, y, z)  # Output: 1 2 3\n",
    "\n"
   ]
  },
  {
   "cell_type": "code",
   "execution_count": 9,
   "metadata": {},
   "outputs": [
    {
     "name": "stdout",
     "output_type": "stream",
     "text": [
      "(1, 2, 3, 4, 5, 6, 7, 8, 9, 10)\n",
      "(3, 4, 5)\n"
     ]
    }
   ],
   "source": [
    "# 4. Immutable Nature:\n",
    "# Tuples are immutable, meaning you cannot modify their elements once created. However, you can create a new tuple by concatenating or slicing existing tuples.\n",
    "\n",
    "# Concatenating tuples\n",
    "new_tuple = tuple1 + tuple2\n",
    "print(new_tuple)  # Output: (1, 2, 3, 4, 5, 6, 7, 8, 9, 10)\n",
    "\n",
    "# Slicing a tuple\n",
    "sliced_tuple = new_tuple[2:5]\n",
    "print(sliced_tuple)  # Output: (3, 4, 5)\n",
    "\n"
   ]
  },
  {
   "cell_type": "code",
   "execution_count": 10,
   "metadata": {},
   "outputs": [
    {
     "name": "stdout",
     "output_type": "stream",
     "text": [
      "1\n",
      "2\n",
      "3\n",
      "4\n",
      "5\n"
     ]
    }
   ],
   "source": [
    "# 5. Iterating Over Tuples:\n",
    "# Tuples can be iterated over using loops, just like lists.\n",
    "\n",
    "# Iterating over a tuple\n",
    "for item in tuple1:\n",
    "    print(item)  # Output: 1 2 3 4 5\n",
    "\n"
   ]
  },
  {
   "cell_type": "code",
   "execution_count": 11,
   "metadata": {},
   "outputs": [
    {
     "name": "stdout",
     "output_type": "stream",
     "text": [
      "5\n",
      "2\n",
      "1\n"
     ]
    }
   ],
   "source": [
    "# 6. Tuple Methods:\n",
    "# Tuples have a few built-in methods to perform operations or retrieve information about the tuple.\n",
    "\n",
    "# Getting the length of a tuple\n",
    "print(len(tuple1))  # Output: 5\n",
    "\n",
    "# Finding the index of an element in a tuple\n",
    "print(tuple2.index(8))  # Output: 2\n",
    "\n",
    "# Counting the occurrences of an element in a tuple\n",
    "print(new_tuple.count(5))  # Output: 1"
   ]
  },
  {
   "attachments": {},
   "cell_type": "markdown",
   "metadata": {},
   "source": [
    "## Dictionaries\n",
    "\n",
    "In Python, a dictionary is an unordered collection of key-value pairs. It is also known as an associative array or a hash map in other programming languages. Here are some key aspects of Python dictionaries:\n",
    "\n",
    "1. Key-Value Pairs: Dictionaries store data as key-value pairs, where each key is unique and associated with a corresponding value. The key is used to access the value in the dictionary.\n",
    "\n",
    "2. Mutable: Dictionaries are mutable, meaning you can add, modify, or remove key-value pairs after the dictionary is created.\n",
    "\n",
    "3. Unordered: Dictionaries do not maintain any specific order of the key-value pairs. The order in which the key-value pairs are stored may not necessarily match the order in which they were added.\n",
    "\n",
    "4. Accessing Values: You can access the value of a specific key by using the key inside square brackets (`[]`). If the key is not present in the dictionary, it will raise a `KeyError`. Alternatively, you can use the `get()` method, which returns `None` or a default value if the key is not found.\n",
    "\n",
    "5. Modifying Values: You can modify the value associated with a key by assigning a new value to that key.\n",
    "\n",
    "6. Adding and Removing Items: You can add new key-value pairs to a dictionary by assigning a value to a new key. Similarly, you can remove key-value pairs using the `del` keyword or the `pop()` method.\n",
    "\n",
    "7. Dictionary Methods: Python dictionaries provide several built-in methods to perform common operations. These methods include `keys()`, `values()`, `items()`, `update()`, `clear()`, and more.\n",
    "\n",
    "8. Dictionary Operations: Dictionaries support operations like checking membership (`in` and `not in`), finding the length using `len()`, and copying using the `copy()` method.\n",
    "\n",
    "9. Immutable Keys: Dictionary keys must be immutable objects, such as strings, numbers, or tuples. This requirement ensures that the keys can be used as unique identifiers and remain consistent.\n",
    "\n",
    "10. Hashing: Dictionaries use hash functions internally to efficiently store and retrieve key-value pairs. The hashing algorithm determines the location where each key-value pair is stored in the dictionary.\n",
    "\n",
    "11. Dictionary Comprehension: Similar to list comprehension, dictionary comprehension allows you to create dictionaries in a concise manner using a loop and conditional expressions.\n",
    "\n",
    "Python dictionaries are widely used for various purposes, such as storing and retrieving data with a unique identifier, mapping values to specific keys, and efficiently searching for values based on keys. Understanding dictionaries and their operations will enhance your ability to work with complex data structures in Python."
   ]
  },
  {
   "cell_type": "code",
   "execution_count": 12,
   "metadata": {},
   "outputs": [
    {
     "name": "stdout",
     "output_type": "stream",
     "text": [
      "{'key1': 'value1', 'key2': 'value2', 'key3': 'value3'}\n",
      "{'key1': 'value1', 'key2': 'value2', 'key3': 'value3'}\n"
     ]
    }
   ],
   "source": [
    "# 1. Creating Dictionaries:\n",
    "# Dictionaries can be created using curly braces `{}` or the `dict()` constructor.\n",
    "\n",
    "# Creating a dictionary using curly braces\n",
    "dict1 = {'key1': 'value1', 'key2': 'value2', 'key3': 'value3'}\n",
    "print(dict1)\n",
    "\n",
    "# Creating a dictionary using the dict() constructor\n",
    "dict2 = dict(key1='value1', key2='value2', key3='value3')\n",
    "print(dict2)\n"
   ]
  },
  {
   "cell_type": "code",
   "execution_count": 13,
   "metadata": {},
   "outputs": [
    {
     "name": "stdout",
     "output_type": "stream",
     "text": [
      "value1\n",
      "value3\n"
     ]
    }
   ],
   "source": [
    "# 2. Accessing Values:\n",
    "# You can access values in a dictionary by using the corresponding keys.\n",
    "\n",
    "# Accessing values in a dictionary\n",
    "print(dict1['key1'])  # Output: value1\n",
    "print(dict2['key3'])  # Output: value3\n",
    "\n"
   ]
  },
  {
   "cell_type": "code",
   "execution_count": 14,
   "metadata": {},
   "outputs": [
    {
     "name": "stdout",
     "output_type": "stream",
     "text": [
      "{'key1': 'value1', 'key2': 'new_value', 'key3': 'value3'}\n"
     ]
    }
   ],
   "source": [
    "# 3. Modifying Values:\n",
    "# Dictionaries are mutable, so you can modify the values associated with keys.\n",
    "\n",
    "# Modifying values in a dictionary\n",
    "dict1['key2'] = 'new_value'\n",
    "print(dict1)  # Output: {'key1': 'value1', 'key2': 'new_value', 'key3': 'value3'}\n",
    "\n"
   ]
  },
  {
   "cell_type": "code",
   "execution_count": 15,
   "metadata": {},
   "outputs": [
    {
     "name": "stdout",
     "output_type": "stream",
     "text": [
      "{'key1': 'value1', 'key2': 'new_value', 'key3': 'value3', 'key4': 'value4'}\n",
      "{'key1': 'value1', 'key3': 'value3'}\n"
     ]
    }
   ],
   "source": [
    "# 4. Adding and Removing Key-Value Pairs:\n",
    "# You can add new key-value pairs to a dictionary or remove existing ones.\n",
    "\n",
    "# Adding a new key-value pair\n",
    "dict1['key4'] = 'value4'\n",
    "print(dict1)  # Output: {'key1': 'value1', 'key2': 'new_value', 'key3': 'value3', 'key4': 'value4'}\n",
    "\n",
    "# Removing a key-value pair\n",
    "del dict2['key2']\n",
    "print(dict2)  # Output: {'key1': 'value1', 'key3': 'value3'}\n",
    "\n"
   ]
  },
  {
   "cell_type": "code",
   "execution_count": 16,
   "metadata": {},
   "outputs": [
    {
     "name": "stdout",
     "output_type": "stream",
     "text": [
      "key1\n",
      "key2\n",
      "key3\n",
      "key4\n",
      "value1\n",
      "new_value\n",
      "value3\n",
      "value4\n",
      "key1 value1\n",
      "key2 new_value\n",
      "key3 value3\n",
      "key4 value4\n"
     ]
    }
   ],
   "source": [
    "# 5. Iterating Over Dictionaries:\n",
    "# You can iterate over dictionaries using loops or comprehensions.\n",
    "\n",
    "# Iterating over keys\n",
    "for key in dict1:\n",
    "    print(key)  # Output: key1, key2, key3, key4\n",
    "\n",
    "# Iterating over values\n",
    "for value in dict1.values():\n",
    "    print(value)  # Output: value1, new_value, value3, value4\n",
    "\n",
    "# Iterating over key-value pairs\n",
    "for key, value in dict1.items():\n",
    "    print(key, value)  # Output: key1 value1, key2 new_value, key3 value3, key4 value4\n",
    "\n"
   ]
  },
  {
   "cell_type": "code",
   "execution_count": 17,
   "metadata": {},
   "outputs": [
    {
     "name": "stdout",
     "output_type": "stream",
     "text": [
      "dict_keys(['key1', 'key2', 'key3', 'key4'])\n",
      "dict_values(['value1', 'new_value', 'value3', 'value4'])\n",
      "dict_items([('key1', 'value1'), ('key2', 'new_value'), ('key3', 'value3'), ('key4', 'value4')])\n",
      "True\n",
      "new_value\n"
     ]
    }
   ],
   "source": [
    "# 6. Dictionary Methods:\n",
    "# Python provides various built-in methods for working with dictionaries, such as `keys()`, `values()`, `items()`, `get()`, `pop()`, `update()`, `clear()`, and more.\n",
    "\n",
    "# Getting all keys\n",
    "keys = dict1.keys()\n",
    "print(keys)  # Output: dict_keys(['key1', 'key2', 'key3', 'key4'])\n",
    "\n",
    "# Getting all values\n",
    "values = dict1.values()\n",
    "print(values)  # Output: dict_values(['value1', 'new_value', 'value3', 'value4'])\n",
    "\n",
    "# Getting key-value pairs\n",
    "items = dict1.items()\n",
    "print(items)  # Output: dict_items([('key1', 'value1'), ('key2', 'new_value'), ('key3', 'value3'), ('key4', 'value4')])\n",
    "\n",
    "# Checking if a key exists\n",
    "print('key1' in dict1)  # Output: True\n",
    "\n",
    "# Removing a key-value pair and returning its value\n",
    "value = dict1.pop('key2')\n",
    "print(value)  # Output: new_value\n"
   ]
  },
  {
   "attachments": {},
   "cell_type": "markdown",
   "metadata": {},
   "source": [
    "## Strings\n",
    "\n",
    "In Python, a string is a sequence of characters enclosed in single quotes (''), double quotes (\"\") or triple quotes (\"\"\" \"\"\"). Strings are immutable, which means they cannot be changed once they are created. Here are some key aspects of Python strings:\n",
    "\n",
    "1. Text Representation: Strings are used to represent text data in Python. They can contain letters, numbers, symbols, and whitespace.\n",
    "\n",
    "2. String Concatenation: You can concatenate strings using the `+` operator. This allows you to combine multiple strings into a single string.\n",
    "\n",
    "3. String Indexing: Each character in a string has an index, starting from 0 for the first character. You can access individual characters in a string using indexing, e.g., `my_string[0]` returns the first character.\n",
    "\n",
    "4. String Slicing: Slicing allows you to extract a portion of a string. It is done by specifying the start and end indices, separated by a colon. The result is a new string containing the selected portion.\n",
    "\n",
    "5. String Length: You can determine the length of a string using the `len()` function. It returns the number of characters in the string.\n",
    "\n",
    "6. String Methods: Python provides a variety of built-in methods for manipulating strings. These methods allow you to perform operations like converting case (lowercase/uppercase), splitting, joining, finding substrings, replacing characters, and more.\n",
    "\n",
    "7. Escape Characters: Strings can include special characters using escape sequences. For example, `\\n` represents a newline character, `\\t` represents a tab character, and `\\\"` represents a double quote character within a double-quoted string.\n",
    "\n",
    "8. String Formatting: Python supports various string formatting techniques. The `format()` method and f-strings (formatted string literals) are commonly used to insert values into strings and format them based on specified patterns.\n",
    "\n",
    "9. Unicode Support: Python strings are capable of handling Unicode characters, allowing you to work with text in different languages and character sets.\n",
    "\n",
    "10. String Operations: Strings can be manipulated using various operators, such as concatenation (`+`), repetition (`*`), comparison (`==`, `!=`, `<`, `>`, etc.), and membership (`in`, `not in`).\n",
    "\n",
    "11. String Immutability: Once a string is created, it cannot be modified. However, you can create new strings based on existing strings using various string manipulation techniques.\n",
    "\n",
    "Python provides a rich set of features and functionality for working with strings. Understanding these aspects will enable you to manipulate, format, and process text data efficiently in your Python programs.\n"
   ]
  },
  {
   "cell_type": "code",
   "execution_count": 33,
   "metadata": {},
   "outputs": [],
   "source": [
    "# 1. Creating Strings:\n",
    "#    Strings can be created using single quotes (''), double quotes (\"\") or triple quotes (\"\"\").\n",
    "\n",
    "\n",
    "# Single quotes\n",
    "single_quoted_string = 'Hello, World!'\n",
    "\n",
    "# Double quotes\n",
    "double_quoted_string = \"Hello, World!\"\n",
    "\n",
    "# Triple quotes for multiline strings\n",
    "multiline_string = \"\"\"Hello,\n",
    "World!\"\"\"\n",
    "\n",
    "\n"
   ]
  },
  {
   "cell_type": "code",
   "execution_count": 34,
   "metadata": {},
   "outputs": [
    {
     "name": "stdout",
     "output_type": "stream",
     "text": [
      "H\n",
      "!\n",
      "World\n"
     ]
    }
   ],
   "source": [
    "# 2. Accessing Characters:\n",
    "#    You can access individual characters in a string using indexing. Python uses zero-based indexing.\n",
    "\n",
    "my_string = \"Hello, World!\"\n",
    "\n",
    "# Accessing first character\n",
    "print(my_string[0])  # Output: 'H'\n",
    "\n",
    "# Accessing last character\n",
    "print(my_string[-1])  # Output: '!'\n",
    "\n",
    "# Accessing a range of characters\n",
    "print(my_string[7:12])  # Output: 'World'\n",
    "\n"
   ]
  },
  {
   "cell_type": "code",
   "execution_count": 35,
   "metadata": {},
   "outputs": [
    {
     "name": "stdout",
     "output_type": "stream",
     "text": [
      "13\n"
     ]
    }
   ],
   "source": [
    "# 3. String Length:\n",
    "#    You can find the length of a string using the `len()` function.\n",
    "\n",
    "my_string = \"Hello, World!\"\n",
    "\n",
    "# Finding the length of the string\n",
    "print(len(my_string))  # Output: 13\n",
    "\n"
   ]
  },
  {
   "cell_type": "code",
   "execution_count": 36,
   "metadata": {},
   "outputs": [
    {
     "name": "stdout",
     "output_type": "stream",
     "text": [
      "Hello World!\n"
     ]
    }
   ],
   "source": [
    "# 4. String Concatenation:\n",
    "#    Strings can be concatenated using the `+` operator.\n",
    "\n",
    "string1 = \"Hello\"\n",
    "string2 = \"World!\"\n",
    "\n",
    "# Concatenating two strings\n",
    "result = string1 + \" \" + string2\n",
    "print(result)  # Output: 'Hello World!'\n",
    "\n"
   ]
  },
  {
   "cell_type": "code",
   "execution_count": 37,
   "metadata": {},
   "outputs": [
    {
     "name": "stdout",
     "output_type": "stream",
     "text": [
      "My name is Alice and I am 25 years old.\n"
     ]
    }
   ],
   "source": [
    "# 5. String Formatting:\n",
    "#    Python provides multiple ways to format strings. One popular method is using f-strings.\n",
    "\n",
    "name = \"Alice\"\n",
    "age = 25\n",
    "\n",
    "# Using f-strings for string formatting\n",
    "result = f\"My name is {name} and I am {age} years old.\"\n",
    "print(result)  # Output: 'My name is Alice and I am 25 years old.'\n",
    "\n"
   ]
  },
  {
   "cell_type": "code",
   "execution_count": 38,
   "metadata": {},
   "outputs": [
    {
     "name": "stdout",
     "output_type": "stream",
     "text": [
      "HELLO, WORLD!\n",
      "hello, world!\n",
      "3\n",
      "Hi, World!\n",
      "True\n",
      "['Hello', ' World!']\n"
     ]
    }
   ],
   "source": [
    "# 6. String Methods:\n",
    "#    Python provides a wide range of built-in string methods. Here are a few commonly used ones:\n",
    "\n",
    "my_string = \"Hello, World!\"\n",
    "\n",
    "# Converting string to uppercase\n",
    "print(my_string.upper())  # Output: 'HELLO, WORLD!'\n",
    "\n",
    "# Converting string to lowercase\n",
    "print(my_string.lower())  # Output: 'hello, world!'\n",
    "\n",
    "# Counting occurrences of a substring\n",
    "print(my_string.count('l'))  # Output: 3\n",
    "\n",
    "# Replacing substrings\n",
    "print(my_string.replace('Hello', 'Hi'))  # Output: 'Hi, World!'\n",
    "\n",
    "# Checking if a string starts with a specific substring\n",
    "print(my_string.startswith('Hello'))  # Output: True\n",
    "\n",
    "# Splitting a string into a list of substrings\n",
    "print(my_string.split(','))  # Output: ['Hello', ' World!']\n",
    "\n"
   ]
  },
  {
   "attachments": {},
   "cell_type": "markdown",
   "metadata": {},
   "source": [
    "## Regular Expressions (Regex)\n",
    "\n",
    "Regular expressions (regex) in Python are a powerful tool for pattern matching and manipulating text. Regex allows you to search, match, and manipulate strings based on specific patterns. Python provides the `re` module for working with regular expressions. Here are some key aspects of Python regex:\n",
    "\n",
    "1. Pattern Creation: A regex pattern is a sequence of characters that defines a search pattern. You can create a regex pattern using a combination of regular characters and special metacharacters that represent certain patterns. For example, the pattern `abc` matches the exact sequence \"abc\", while the pattern `\\d` matches any digit.\n",
    "\n",
    "2. Searching and Matching: The `re` module provides functions like `search()` and `match()` to search for patterns in a string. The `search()` function looks for the first occurrence of a pattern in a string, while the `match()` function looks for a pattern only at the beginning of the string.\n",
    "\n",
    "3. Match Objects: When a pattern is found, the result is returned as a match object. You can use methods like `group()` to retrieve the matched substring, `start()` and `end()` to get the indices of the matched substring, and `span()` to get the start and end indices as a tuple.\n",
    "\n",
    "4. Pattern Modifiers: Regex patterns can be modified using flags, which are optional parameters that control the behavior of the pattern matching. Flags include `re.IGNORECASE` to perform a case-insensitive matching, `re.MULTILINE` to enable multiline matching, and more.\n",
    "\n",
    "5. Special Metacharacters: Regex provides a set of metacharacters with special meanings. Some common metacharacters include:\n",
    "   - `.` matches any character except a newline.\n",
    "   - `^` matches the start of a string.\n",
    "   - `$` matches the end of a string.\n",
    "   - `\\` is used to escape special characters or create character classes.\n",
    "   - `[]` defines a character class, matching any character within the brackets.\n",
    "   - `()` creates a capture group.\n",
    "\n",
    "6. Quantifiers: Quantifiers specify how many times a pattern should occur. Some common quantifiers include:\n",
    "   - `*` matches zero or more occurrences.\n",
    "   - `+` matches one or more occurrences.\n",
    "   - `?` matches zero or one occurrence.\n",
    "   - `{n}` matches exactly n occurrences.\n",
    "   - `{n, m}` matches at least n and at most m occurrences.\n",
    "\n",
    "7. Substitution: The `re` module provides the `sub()` function to perform substitutions in a string based on a regex pattern. It allows you to replace matches with a specified string.\n",
    "\n",
    "8. Splitting: The `split()` function in the `re` module allows you to split a string based on a regex pattern. It returns a list of substrings split at the occurrences of the pattern.\n",
    "\n",
    "Regex in Python is a vast topic with many features and options. It allows you to perform complex pattern matching tasks and is widely used for tasks like text parsing, data validation, and data extraction. The `re` module provides a comprehensive set of functions and methods to work with regular expressions in Python."
   ]
  },
  {
   "cell_type": "code",
   "execution_count": 52,
   "metadata": {},
   "outputs": [],
   "source": [
    "# 1. Importing the `re` Module:\n",
    "#    Before using regex in Python, you need to import the `re` module.\n",
    "\n",
    "import re\n",
    "\n"
   ]
  },
  {
   "cell_type": "code",
   "execution_count": 53,
   "metadata": {},
   "outputs": [
    {
     "name": "stdout",
     "output_type": "stream",
     "text": [
      "Match found!\n",
      "Match found!\n",
      "['7', '5']\n",
      "Hello\n",
      "World\n"
     ]
    }
   ],
   "source": [
    "# 2. Matching Patterns:\n",
    "#    The `re` module provides various functions for matching patterns in strings. Here are a few commonly used functions:\n",
    "\n",
    "# - `re.match()`: Determines if the pattern matches at the beginning of the string.\n",
    "\n",
    "pattern = r\"Hello\"\n",
    "text = \"Hello, World!\"\n",
    "\n",
    "match = re.match(pattern, text)\n",
    "if match:\n",
    "    print(\"Match found!\")\n",
    "else:\n",
    "    print(\"No match found!\")\n",
    "\n",
    "# - `re.search()`: Searches the string for a match to the pattern anywhere in the string.\n",
    "\n",
    "pattern = r\"World\"\n",
    "text = \"Hello, World!\"\n",
    "\n",
    "match = re.search(pattern, text)\n",
    "if match:\n",
    "    print(\"Match found!\")\n",
    "else:\n",
    "    print(\"No match found!\")\n",
    "\n",
    "# - `re.findall()`: Returns all non-overlapping matches of the pattern in the string as a list.\n",
    "\n",
    "pattern = r\"\\d+\"\n",
    "text = \"There are 7 apples and 5 oranges.\"\n",
    "\n",
    "matches = re.findall(pattern, text)\n",
    "print(matches)  # Output: ['7', '5']\n",
    "\n",
    "# - `re.finditer()`: Returns an iterator yielding match objects for all non-overlapping matches of the pattern in the string.\n",
    "\n",
    "pattern = r\"\\w+\"\n",
    "text = \"Hello, World!\"\n",
    "\n",
    "matches = re.finditer(pattern, text)\n",
    "for match in matches:\n",
    "    print(match.group())\n",
    "\n"
   ]
  },
  {
   "cell_type": "code",
   "execution_count": null,
   "metadata": {},
   "outputs": [],
   "source": [
    "# 3. Regular Expression Patterns:\n",
    "#    Regular expressions consist of various metacharacters and special sequences that define the pattern to be matched. Here are a few examples:\n",
    "\n",
    "# - `\\d`: Matches any digit.\n",
    "# - `\\w`: Matches any alphanumeric character.\n",
    "# - `.`: Matches any character except a newline.\n",
    "# - `+`: Matches one or more occurrences of the preceding pattern.\n",
    "# - `*`: Matches zero or more occurrences of the preceding pattern.\n",
    "# - `[]`: Matches any single character within the brackets.\n",
    "# - `|`: Matches either the pattern before or after the operator.\n",
    "\n",
    "pattern = r\"gr.y\"\n",
    "\n",
    "# Matches: 'gray', 'grey', 'gruy', etc.\n",
    "text1 = \"The gray cat\"\n",
    "text2 = \"The grey mouse\"\n",
    "text3 = \"The gruy cheese\"\n",
    "\n",
    "match1 = re.search(pattern, text1)\n",
    "match2 = re.search(pattern, text2)\n",
    "match3 = re.search(pattern, text3)\n",
    "\n",
    "if match1:\n",
    "    print(\"Match found in text1!\")\n",
    "if match2:\n",
    "    print(\"Match found in text2!\")\n",
    "if match3:\n",
    "    print(\"Match found in text3!\")\n",
    "\n"
   ]
  },
  {
   "cell_type": "code",
   "execution_count": null,
   "metadata": {},
   "outputs": [],
   "source": [
    "# 4. Substituting Patterns:\n",
    "#    The `re` module allows you to substitute patterns in strings using the `re.sub()` function.\n",
    "\n",
    "pattern = r\"\\d+\"\n",
    "text = \"There are 7 apples and 5 oranges.\"\n",
    "\n",
    "replaced_text = re.sub(pattern, \"X\", text)\n",
    "print(replaced_text)  # Output: 'There are X apples and X oranges.'\n",
    "\n",
    "# 5. Splitting Strings with Patterns:\n",
    "#    The `re` module enables you to split strings using patterns with the `re.split()` function.\n",
    "\n",
    "pattern = r\"\\s+\"\n",
    "text = \"Hello   World!   How are you?\"\n",
    "\n",
    "splitted_text = re.split(pattern, text)\n",
    "print(splitted_text)  # Output: ['Hello', 'World!', 'How', 'are', 'you?']"
   ]
  },
  {
   "attachments": {},
   "cell_type": "markdown",
   "metadata": {},
   "source": [
    "## Functions\n",
    "\n",
    "In Python, functions are blocks of reusable code that perform a specific task. They allow you to organize and structure your code by breaking it down into smaller, manageable parts. Here are some important aspects of Python functions:\n",
    "\n",
    "1. Function Definition: Functions are defined using the `def` keyword, followed by the function name and parentheses. The function name should be descriptive and follow Python naming conventions.\n",
    "\n",
    "2. Parameters: Functions can take input parameters, also called arguments, which are specified within the parentheses during function definition. These parameters allow you to pass values into the function for it to work with.\n",
    "\n",
    "3. Return Values: Functions can return values using the `return` statement. The returned value can be of any data type, such as numbers, strings, lists, or even other complex objects.\n",
    "\n",
    "4. Function Call: To execute a function and run the code within it, you need to call the function by its name followed by parentheses. If the function takes parameters, you pass the values for those parameters inside the parentheses.\n",
    "\n",
    "5. Scope: Functions have their own scope, which means variables defined within a function are only accessible within that function. Variables defined outside of any function have global scope and can be accessed from anywhere in the code.\n",
    "\n",
    "6. Default Arguments: Function parameters can have default values assigned to them. If a value is not provided for a parameter when calling the function, the default value is used.\n",
    "\n",
    "7. Variable Number of Arguments: Functions can accept a variable number of arguments using special syntax. This allows you to pass any number of arguments to the function without explicitly specifying them in the function definition.\n",
    "\n",
    "8. Recursion: Functions can call themselves, resulting in recursive function calls. This technique is useful for solving problems that can be broken down into smaller, repetitive sub-problems.\n",
    "\n",
    "9. Function Documentation: You can provide documentation for your functions using docstrings, which are string literals enclosed in triple quotes. Docstrings describe the purpose of the function, its parameters, and return values.\n",
    "\n",
    "10. Function Modularity: Functions promote code modularity and reusability. By breaking your code into smaller functions, you can isolate specific tasks, make your code more readable, and reuse functions in different parts of your program."
   ]
  },
  {
   "cell_type": "code",
   "execution_count": 39,
   "metadata": {},
   "outputs": [],
   "source": [
    "# 1. Function Definition:\n",
    "#    In Python, a function is defined using the `def` keyword, followed by the function name and parentheses. You can also specify parameters inside the parentheses.\n",
    "\n",
    "# Function without parameters\n",
    "def greet():\n",
    "    print(\"Hello, world!\")\n",
    "\n",
    "# Function with parameters\n",
    "def add_numbers(a, b):\n",
    "    return a + b"
   ]
  },
  {
   "cell_type": "code",
   "execution_count": 40,
   "metadata": {},
   "outputs": [
    {
     "name": "stdout",
     "output_type": "stream",
     "text": [
      "Hello, world!\n",
      "8\n"
     ]
    }
   ],
   "source": [
    "# 2. Function Invocation:\n",
    "#    After defining a function, you can call or invoke it by using its name followed by parentheses. If the function has parameters, you need to provide values for the parameters.\n",
    "\n",
    "# Invoking a function without parameters\n",
    "greet()  # Output: 'Hello, world!'\n",
    "\n",
    "# Invoking a function with parameters\n",
    "result = add_numbers(5, 3)\n",
    "print(result)  # Output: 8\n",
    "\n"
   ]
  },
  {
   "cell_type": "code",
   "execution_count": 41,
   "metadata": {},
   "outputs": [
    {
     "name": "stdout",
     "output_type": "stream",
     "text": [
      "8\n"
     ]
    }
   ],
   "source": [
    "# 3. Return Statement:\n",
    "#    Functions can return values using the `return` statement. The returned value can be assigned to a variable or used directly.\n",
    "\n",
    "def multiply_numbers(a, b):\n",
    "    return a * b\n",
    "\n",
    "result = multiply_numbers(2, 4)\n",
    "print(result)  # Output: 8\n",
    "\n"
   ]
  },
  {
   "cell_type": "code",
   "execution_count": 42,
   "metadata": {},
   "outputs": [
    {
     "name": "stdout",
     "output_type": "stream",
     "text": [
      "Hello, World\n",
      "Hello, Alice\n"
     ]
    }
   ],
   "source": [
    "# 4. Default Parameters:\n",
    "#    You can assign default values to function parameters. If a value is not provided for a parameter, the default value will be used.\n",
    "\n",
    "def greet(name=\"World\"):\n",
    "    print(\"Hello,\", name)\n",
    "\n",
    "greet()  # Output: 'Hello, World'\n",
    "greet(\"Alice\")  # Output: 'Hello, Alice'\n",
    "\n",
    "\n"
   ]
  },
  {
   "cell_type": "code",
   "execution_count": 43,
   "metadata": {},
   "outputs": [
    {
     "name": "stdout",
     "output_type": "stream",
     "text": [
      "Name: Alice\n",
      "Age: 25\n"
     ]
    }
   ],
   "source": [
    "# 5. Keyword Arguments:\n",
    "#    When calling a function, you can specify arguments by name using keyword arguments. This allows you to provide arguments in any order.\n",
    "\n",
    "def describe_person(name, age):\n",
    "    print(\"Name:\", name)\n",
    "    print(\"Age:\", age)\n",
    "\n",
    "describe_person(age=25, name=\"Alice\")\n",
    "\n"
   ]
  },
  {
   "cell_type": "code",
   "execution_count": 44,
   "metadata": {},
   "outputs": [
    {
     "name": "stdout",
     "output_type": "stream",
     "text": [
      "15\n"
     ]
    }
   ],
   "source": [
    "# 6. Variable Number of Arguments:\n",
    "#    Python allows you to define functions that can accept a variable number of arguments using the `*args` and `**kwargs` syntax.\n",
    "\n",
    "def sum_numbers(*args):\n",
    "    total = 0\n",
    "    for num in args:\n",
    "        total += num\n",
    "    return total\n",
    "\n",
    "result = sum_numbers(1, 2, 3, 4, 5)\n",
    "print(result)  # Output: 15\n",
    "\n"
   ]
  },
  {
   "cell_type": "code",
   "execution_count": 54,
   "metadata": {},
   "outputs": [
    {
     "name": "stdout",
     "output_type": "stream",
     "text": [
      "name: John Doe\n",
      "age: 20\n",
      "major: Computer Science\n"
     ]
    }
   ],
   "source": [
    "def print_student_details(**kwargs):\n",
    "    for key, value in kwargs.items():\n",
    "        print(f\"{key}: {value}\")\n",
    "\n",
    "# Example usage\n",
    "print_student_details(name=\"John Doe\", age=20, major=\"Computer Science\")\n",
    "\n",
    "# In this example, the `print_student_details` function takes in arbitrary keyword arguments using `**kwargs`. \n",
    "# The function iterates over the key-value pairs using the `items()` method of the `kwargs` dictionary and prints each key-value pair.\n",
    "\n",
    "# When calling the `print_student_details` function, we can pass any number of keyword arguments. \n",
    "# In this case, we pass `name`, `age`, and `major` as keyword arguments along with their corresponding values. The function then prints the details of the student using the provided arguments."
   ]
  },
  {
   "cell_type": "code",
   "execution_count": 56,
   "metadata": {},
   "outputs": [
    {
     "name": "stdout",
     "output_type": "stream",
     "text": [
      "10\n"
     ]
    },
    {
     "ename": "NameError",
     "evalue": "name 'temp_x' is not defined",
     "output_type": "error",
     "traceback": [
      "\u001b[1;31m---------------------------------------------------------------------------\u001b[0m",
      "\u001b[1;31mNameError\u001b[0m                                 Traceback (most recent call last)",
      "\u001b[1;32mc:\\Users\\RA283XN\\Downloads\\SONIC\\RPA NLP TRAINING\\data structures.ipynb Cell 52\u001b[0m in \u001b[0;36m<cell line: 9>\u001b[1;34m()\u001b[0m\n\u001b[0;32m      <a href='vscode-notebook-cell:/c%3A/Users/RA283XN/Downloads/SONIC/RPA%20NLP%20TRAINING/data%20structures.ipynb#Y220sZmlsZQ%3D%3D?line=5'>6</a>\u001b[0m     \u001b[39mprint\u001b[39m(temp_x)\n\u001b[0;32m      <a href='vscode-notebook-cell:/c%3A/Users/RA283XN/Downloads/SONIC/RPA%20NLP%20TRAINING/data%20structures.ipynb#Y220sZmlsZQ%3D%3D?line=7'>8</a>\u001b[0m my_function()  \u001b[39m# Output: 10\u001b[39;00m\n\u001b[1;32m----> <a href='vscode-notebook-cell:/c%3A/Users/RA283XN/Downloads/SONIC/RPA%20NLP%20TRAINING/data%20structures.ipynb#Y220sZmlsZQ%3D%3D?line=8'>9</a>\u001b[0m \u001b[39mprint\u001b[39m(temp_x)\n",
      "\u001b[1;31mNameError\u001b[0m: name 'temp_x' is not defined"
     ]
    }
   ],
   "source": [
    "# 7. Scope:\n",
    "#    Variables defined inside a function have local scope and are only accessible within the function. Variables defined outside a function have global scope and can be accessed inside and outside functions.\n",
    "\n",
    "def my_function():\n",
    "    temp_x = 10  # Local variable\n",
    "    print(temp_x)\n",
    "\n",
    "my_function()  # Output: 10\n",
    "print(temp_x)  # Raises an error because x is not defined outside the function"
   ]
  },
  {
   "attachments": {},
   "cell_type": "markdown",
   "metadata": {},
   "source": [
    "## Lambda Functions\n",
    "\n",
    "In Python, a lambda function, also known as an anonymous function, is a way to create small, one-line functions without using the `def` keyword. Lambda functions are typically used for simple and short tasks where defining a full function would be unnecessary. Here are some key aspects of Python lambda functions:\n",
    "\n",
    "1. Syntax: The syntax for a lambda function is `lambda arguments: expression`. The lambda keyword is followed by the arguments (optional) and a colon, then the expression that defines the function's behavior.\n",
    "\n",
    "2. Anonymous: Lambda functions are anonymous because they don't have a name. They are typically used in situations where you need a small function for a specific task without the need for a formal function definition.\n",
    "\n",
    "3. Single Expression: Lambda functions are limited to a single expression, which is typically returned as the result of the function. The expression can be as simple as a mathematical operation or a more complex computation.\n",
    "\n",
    "4. Concise: Lambda functions are designed to be concise and expressive. They are useful when you need to define a function on the fly without going through the process of defining a formal function using the `def` keyword.\n",
    "\n",
    "5. Function Objects: Lambda functions are function objects in Python. This means you can assign them to variables, pass them as arguments to other functions, or return them as the result of other functions.\n",
    "\n",
    "6. Use Cases: Lambda functions are often used in combination with other functions that expect a function object as an argument, such as sorting, filtering, or mapping operations. They are particularly useful in functional programming paradigms.\n",
    "\n",
    "7. Scope: Lambda functions have access to variables in the enclosing scope. This means they can use variables defined outside the lambda function, but they cannot modify those variables.\n",
    "\n",
    "8. Readability: While lambda functions can be powerful and concise, they can also make the code harder to read and understand, especially if the expression becomes complex. It's important to strike a balance between code readability and the use of lambda functions.\n",
    "\n",
    "Lambda functions are a useful tool in Python for creating small, inline functions for specific tasks. They can help simplify code and make it more expressive in certain scenarios. However, it's important to use them judiciously and consider readability when deciding whether to use a lambda function or a traditional named function."
   ]
  },
  {
   "cell_type": "code",
   "execution_count": 46,
   "metadata": {},
   "outputs": [
    {
     "name": "stdout",
     "output_type": "stream",
     "text": [
      "8\n"
     ]
    }
   ],
   "source": [
    "# 1. Lambda Functions:\n",
    "#    In Python, lambda functions are anonymous functions that can be defined without a name. They are typically used for simple, one-line functions.\n",
    "\n",
    "# Syntax: lambda arguments: expression\n",
    "\n",
    "# Example lambda function to add two numbers\n",
    "add = lambda x, y: x + y\n",
    "\n",
    "# Using the lambda function\n",
    "result = add(5, 3)\n",
    "print(result)  # Output: 8\n",
    "\n"
   ]
  },
  {
   "cell_type": "code",
   "execution_count": 47,
   "metadata": {},
   "outputs": [
    {
     "name": "stdout",
     "output_type": "stream",
     "text": [
      "16\n"
     ]
    }
   ],
   "source": [
    "# 2. Single Expression:\n",
    "#    Lambda functions are limited to a single expression. The expression is evaluated and returned as the result.\n",
    "\n",
    "# Example lambda function to calculate the square of a number\n",
    "square = lambda x: x ** 2\n",
    "\n",
    "result = square(4)\n",
    "print(result)  # Output: 16\n"
   ]
  },
  {
   "cell_type": "code",
   "execution_count": 48,
   "metadata": {},
   "outputs": [
    {
     "name": "stdout",
     "output_type": "stream",
     "text": [
      "[1, 4, 9, 16, 25]\n"
     ]
    }
   ],
   "source": [
    "# 3. Use Cases for Lambda Functions:\n",
    "#    Lambda functions are often used in situations where a small, simple function is needed, such as:\n",
    "\n",
    "# - As arguments to higher-order functions like `map()`, `filter()`, and `reduce()`.\n",
    "# - In list comprehensions or generator expressions.\n",
    "# - As inline functions for quick calculations or transformations.\n",
    "\n",
    "# Example: Using a lambda function with map()\n",
    "numbers = [1, 2, 3, 4, 5]\n",
    "squared_numbers = list(map(lambda x: x ** 2, numbers))\n",
    "print(squared_numbers)  # Output: [1, 4, 9, 16, 25]\n",
    "\n"
   ]
  },
  {
   "cell_type": "code",
   "execution_count": 50,
   "metadata": {},
   "outputs": [
    {
     "name": "stdout",
     "output_type": "stream",
     "text": [
      "24\n"
     ]
    }
   ],
   "source": [
    "# 4. Multiple Arguments:\n",
    "#    Lambda functions can have multiple arguments separated by commas. These arguments are used in the expression.\n",
    "\n",
    "# Example lambda function with multiple arguments\n",
    "multiply = lambda x, y, z: x * y * z\n",
    "\n",
    "result = multiply(2, 3, 4)\n",
    "print(result)  # Output: 24\n",
    "\n"
   ]
  },
  {
   "cell_type": "code",
   "execution_count": 51,
   "metadata": {},
   "outputs": [
    {
     "name": "stdout",
     "output_type": "stream",
     "text": [
      "['Bob', 'Eve', 'Alice', 'David', 'Charlie']\n"
     ]
    }
   ],
   "source": [
    "# 5. Using Lambda Functions in Sorting:\n",
    "#    Lambda functions can be used as key functions to specify custom sorting criteria when sorting lists.\n",
    "\n",
    "# Sorting a list of names by their lengths using a lambda function\n",
    "names = ['Alice', 'Bob', 'Charlie', 'David', 'Eve']\n",
    "sorted_names = sorted(names, key=lambda x: len(x))\n",
    "print(sorted_names)  # Output: ['Bob', 'Eve', 'Alice', 'David', 'Charlie']\n"
   ]
  },
  {
   "attachments": {},
   "cell_type": "markdown",
   "metadata": {},
   "source": [
    "# OS Module\n",
    "\n",
    "The `os` module in Python provides a way to interact with the operating system. It offers a wide range of functions to perform various operating system-related tasks. Here are some key aspects of the `os` module:\n",
    "\n",
    "1. File and Directory Operations: The `os` module allows you to perform operations related to files and directories. You can create, delete, rename, and manipulate files and directories using functions like `os.mkdir()`, `os.rmdir()`, `os.rename()`, `os.remove()`, and more.\n",
    "\n",
    "2. Environment Variables: The `os` module provides functions to access and manipulate environment variables. You can retrieve the value of an environment variable using `os.getenv()` and modify it using `os.putenv()`.\n",
    "\n",
    "3. Process Management: You can interact with processes using functions provided by the `os` module. You can spawn new processes, terminate processes, get information about the current process, and more. Functions like `os.system()`, `os.spawn*()`, and `os.kill()` are commonly used for process management.\n",
    "\n",
    "4. Working Directory: The `os` module allows you to get and change the current working directory. The functions `os.getcwd()` and `os.chdir()` are used for this purpose.\n",
    "\n",
    "5. Path Manipulation: The `os.path` submodule provides functions for working with file paths. You can join path components using `os.path.join()`, check if a path exists using `os.path.exists()`, get the file name or directory name from a path using `os.path.basename()` and `os.path.dirname()`, and more.\n",
    "\n",
    "6. Operating System Information: The `os` module provides functions to retrieve information about the operating system. You can get the name of the operating system using `os.name`, get the current user name using `os.getlogin()`, and retrieve other system-related information using various functions.\n",
    "\n",
    "7. File Permissions: The `os` module allows you to modify file permissions using functions like `os.chmod()` and `os.chown()`. These functions enable you to change the access permissions and ownership of a file.\n",
    "\n",
    "8. Error Handling: The `os` module raises various exceptions for different types of errors that can occur during operations. These exceptions can be caught and handled in your code to handle error conditions appropriately.\n",
    "\n",
    "The `os` module provides a comprehensive set of functions for interacting with the operating system. It is a powerful tool for performing various system-related tasks in a platform-independent manner."
   ]
  },
  {
   "cell_type": "code",
   "execution_count": null,
   "metadata": {},
   "outputs": [],
   "source": [
    "# 1. Importing the `os` Module:\n",
    "#    Before using the `os` library, you need to import it into your Python script.\n",
    "\n",
    "import os\n",
    "\n"
   ]
  },
  {
   "cell_type": "code",
   "execution_count": null,
   "metadata": {},
   "outputs": [],
   "source": [
    "# 2. File and Directory Operations:\n",
    "#    The `os` library provides functions for various file and directory operations. Here are a few commonly used functions:\n",
    "\n",
    "# - Getting the current working directory:\n",
    "\n",
    "current_dir = os.getcwd()\n",
    "print(current_dir)  # Output: '/path/to/current/directory'\n",
    "\n",
    "# - Changing the current working directory:\n",
    "\n",
    "os.chdir('/path/to/new/directory')\n",
    "\n",
    "# - Listing files and directories in a given directory:\n",
    "\n",
    "files = os.listdir('/path/to/directory')\n",
    "for file in files:\n",
    "    print(file)\n",
    "\n",
    "# - Creating a directory:\n",
    "\n",
    "os.mkdir('/path/to/new/directory')\n",
    "\n",
    "# - Creating directories recursively (including parent directories):\n",
    "\n",
    "os.makedirs('/path/to/new/directory/with/parents', exist_ok=True)\n",
    "\n",
    "# - Checking if a path is a file:\n",
    "\n",
    "is_file = os.path.isfile('/path/to/file')\n",
    "print(is_file)  # Output: True or False\n",
    "\n",
    "# - Checking if a path is a directory:\n",
    "\n",
    "is_dir = os.path.isdir('/path/to/directory')\n",
    "print(is_dir)  # Output: True or False\n",
    "\n",
    "# - Renaming a file or directory:\n",
    "\n",
    "os.rename('/path/to/old', '/path/to/new')\n",
    "\n",
    "# - Removing a file:\n",
    "\n",
    "os.remove('/path/to/file')\n",
    "\n",
    "# - Removing an empty directory:\n",
    "\n",
    "os.rmdir('/path/to/empty/directory')\n",
    "\n",
    "# - Removing directories recursively (including all files and subdirectories):\n",
    "\n",
    "os.removedirs('/path/to/directory')\n",
    "\n"
   ]
  },
  {
   "cell_type": "code",
   "execution_count": null,
   "metadata": {},
   "outputs": [],
   "source": [
    "# 3. Environment Variables:\n",
    "#    The `os` library allows you to access and modify environment variables. Here are a few examples:\n",
    "\n",
    "# - Getting the value of an environment variable:\n",
    "\n",
    "value = os.getenv('VARIABLE_NAME')\n",
    "print(value)  # Output: Value of the environment variable or None if it doesn't exist\n",
    "\n",
    "# - Setting the value of an environment variable:\n",
    "\n",
    "os.environ['VARIABLE_NAME'] = 'new_value'\n",
    "\n",
    "# - Removing an environment variable:\n",
    "\n",
    "del os.environ['VARIABLE_NAME']\n",
    "\n"
   ]
  }
 ],
 "metadata": {
  "kernelspec": {
   "display_name": "base",
   "language": "python",
   "name": "python3"
  },
  "language_info": {
   "codemirror_mode": {
    "name": "ipython",
    "version": 3
   },
   "file_extension": ".py",
   "mimetype": "text/x-python",
   "name": "python",
   "nbconvert_exporter": "python",
   "pygments_lexer": "ipython3",
   "version": "3.9.12"
  },
  "orig_nbformat": 4
 },
 "nbformat": 4,
 "nbformat_minor": 2
}
