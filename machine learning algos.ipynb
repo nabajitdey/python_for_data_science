{
 "cells": [
  {
   "attachments": {},
   "cell_type": "markdown",
   "metadata": {},
   "source": [
    "## Linear Regression\n",
    "\n",
    "Here are some key pointers about linear regression:\n",
    "\n",
    "1. Purpose: Linear regression is used to model and analyze the relationship between a dependent variable and one or more independent variables. It helps in understanding how changes in the independent variables affect the dependent variable.\n",
    "\n",
    "2. Linearity: Linear regression assumes a linear relationship between the independent and dependent variables. It assumes that the relationship can be represented by a straight line in a scatter plot.\n",
    "\n",
    "3. Parameters: The linear regression model estimates two parameters: the slope (coefficients) and the intercept. The slope represents the change in the dependent variable for a one-unit change in the independent variable, while the intercept is the value of the dependent variable when all independent variables are zero.\n",
    "\n",
    "4. Ordinary Least Squares: Linear regression uses the method of ordinary least squares to estimate the parameters. It minimizes the sum of squared residuals, which are the differences between the predicted and actual values of the dependent variable.\n",
    "\n",
    "5. Assumptions: Linear regression has certain assumptions, including linearity, independence of errors, homoscedasticity (constant variance of errors), and normality of errors. Violations of these assumptions may affect the model's accuracy and interpretation.\n",
    "\n",
    "6. Multiple Linear Regression: When there are multiple independent variables, it is called multiple linear regression. It allows for analyzing the impact of each independent variable while controlling for the effects of other variables.\n",
    "\n",
    "7. Evaluating the Model: The performance of a linear regression model can be assessed using various metrics, such as R-squared (the proportion of variance explained by the model), adjusted R-squared, mean squared error, and F-statistic. These metrics help in determining how well the model fits the data.\n",
    "\n",
    "8. Interpretation: The coefficients of the independent variables in linear regression provide insights into their impact on the dependent variable. A positive coefficient indicates a positive relationship, while a negative coefficient indicates a negative relationship. The magnitude of the coefficient represents the strength of the relationship.\n",
    "\n",
    "9. Limitations: Linear regression has limitations. It assumes a linear relationship, which may not hold for all scenarios. It is also sensitive to outliers and influential data points. In addition, it may not capture complex relationships or interactions between variables.\n",
    "\n",
    "10. Extensions: Linear regression can be extended to handle nonlinear relationships by incorporating polynomial terms or using more advanced techniques like ridge regression, lasso regression, or polynomial regression.\n",
    "\n",
    "Understanding linear regression and its underlying principles is crucial for applying this technique effectively in data analysis, prediction, and understanding the relationship between variables."
   ]
  },
  {
   "cell_type": "code",
   "execution_count": 101,
   "metadata": {},
   "outputs": [],
   "source": [
    "# Linear regression is a popular supervised learning algorithm used for predicting a continuous target variable based \n",
    "# on one or more input features. The goal is to find the best-fit line that minimizes the sum of the squared differences between the predicted and actual values.\n",
    "\n",
    "# Step 1: Importing Required Libraries\n",
    "# Before we begin, we need to import the necessary libraries. In this case, we'll need `numpy`, `matplotlib`, and `sklearn`.\n",
    "\n",
    "import numpy as np\n",
    "import matplotlib.pyplot as plt\n",
    "from sklearn.linear_model import LinearRegression\n",
    "\n",
    "\n"
   ]
  },
  {
   "cell_type": "code",
   "execution_count": 62,
   "metadata": {},
   "outputs": [],
   "source": [
    "# Step 2: Generating Sample Data\n",
    "# To illustrate linear regression, let's first generate some sample data. We'll create a simple dataset with a single input feature (X) and a target variable (y).\n",
    "\n",
    "# Generate sample data\n",
    "np.random.seed(0)\n",
    "X = np.random.rand(100, 1)  # Input feature\n",
    "y = 2 + 3 * X + np.random.randn(100, 1)  # Target variable\n",
    "\n"
   ]
  },
  {
   "cell_type": "code",
   "execution_count": 63,
   "metadata": {},
   "outputs": [
    {
     "data": {
      "text/plain": [
       "LinearRegression()"
      ]
     },
     "execution_count": 63,
     "metadata": {},
     "output_type": "execute_result"
    }
   ],
   "source": [
    "# Step 3: Creating and Fitting the Linear Regression Model\n",
    "# Next, we'll create an instance of the LinearRegression class from sklearn and fit the model to our data.\n",
    "\n",
    "# Create linear regression object\n",
    "model = LinearRegression()\n",
    "\n",
    "# Fit the model to the data\n",
    "model.fit(X, y)\n",
    "\n",
    "\n"
   ]
  },
  {
   "cell_type": "code",
   "execution_count": 64,
   "metadata": {},
   "outputs": [],
   "source": [
    "# Step 4: Making Predictions\n",
    "# Once the model is fitted, we can use it to make predictions on new data. In this case, we'll make predictions on the same input feature X that we used for training.\n",
    "\n",
    "# Make predictions\n",
    "y_pred = model.predict(X)\n",
    "\n",
    "\n",
    "\n",
    "\n",
    "# saving for evaluation metric section\n",
    "\n",
    "y_pred_lin_reg = y_pred\n",
    "X_lin_reg = X\n",
    "y_true_lin_reg = y\n",
    "\n"
   ]
  },
  {
   "cell_type": "code",
   "execution_count": 65,
   "metadata": {},
   "outputs": [
    {
     "data": {
      "image/png": "[encoded data removed]",
      "text/plain": [
       "<Figure size 432x288 with 1 Axes>"
      ]
     },
     "metadata": {
      "needs_background": "light"
     },
     "output_type": "display_data"
    },
    {
     "name": "stdout",
     "output_type": "stream",
     "text": [
      "Coefficient:  [[2.93693502]]\n",
      "Intercept:  [2.22215108]\n",
      "R-squared:  0.41941554964783967\n"
     ]
    }
   ],
   "source": [
    "# Step 5: Visualizing the Results\n",
    "# To visualize the results, we'll plot the original data points and the regression line.\n",
    "\n",
    "# Plot the original data points\n",
    "plt.scatter(X, y, color='blue', label='Actual')\n",
    "\n",
    "# Plot the regression line\n",
    "plt.plot(X, y_pred, color='red', linewidth=2, label='Predicted')\n",
    "\n",
    "# Add labels and title\n",
    "plt.xlabel('X')\n",
    "plt.ylabel('y')\n",
    "plt.title('Linear Regression')\n",
    "\n",
    "# Add legend\n",
    "plt.legend()\n",
    "\n",
    "# Show the plot\n",
    "plt.show()\n",
    "\n",
    "# This will display a scatter plot of the original data points in blue, and the regression line (predicted values) in red.\n",
    "\n",
    "# Linear regression in scikit-learn also provides additional functionalities, such as coefficient estimates, intercept, and evaluation metrics. Here are a few examples:\n",
    "\n",
    "# Coefficient estimates\n",
    "print(\"Coefficient: \", model.coef_)\n",
    "\n",
    "# Intercept\n",
    "print(\"Intercept: \", model.intercept_)\n",
    "\n",
    "# R-squared score (model evaluation)\n",
    "print(\"R-squared: \", model.score(X, y))\n",
    "\n",
    "# The code above demonstrates how to access the coefficient estimates, intercept, and R-squared score using the trained linear regression model."
   ]
  },
  {
   "attachments": {},
   "cell_type": "markdown",
   "metadata": {},
   "source": [
    "## Logistic Regression\n",
    "\n",
    "Here are some key pointers about logistic regression:\n",
    "\n",
    "1. Purpose: Logistic regression is used to model and analyze the relationship between a binary dependent variable (such as yes/no, true/false) and one or more independent variables. It is commonly used for classification problems where the outcome is categorical.\n",
    "\n",
    "2. Sigmoid Function: Logistic regression uses the logistic or sigmoid function to transform the linear regression output into a probability value between 0 and 1. This sigmoid function maps the linear combination of independent variables to the range of probabilities.\n",
    "\n",
    "3. Binary Classification: Logistic regression is primarily used for binary classification, where the dependent variable has two classes. It predicts the probability of an observation belonging to one of the classes and assigns the observation to the class with the higher probability.\n",
    "\n",
    "4. Log Odds: Logistic regression estimates the log odds or logit of the probability by fitting a linear equation to the independent variables. The log odds represent the logarithm of the odds ratio, which is the ratio of the probability of the event occurring to the probability of it not occurring.\n",
    "\n",
    "5. Maximum Likelihood Estimation: Logistic regression estimates the model parameters using maximum likelihood estimation (MLE). The goal is to find the parameters that maximize the likelihood of observing the given set of data.\n",
    "\n",
    "6. Coefficients and Odds Ratio: The coefficients in logistic regression represent the effect of the independent variables on the log odds of the event occurring. They can be exponentiated to obtain the odds ratio, which indicates the change in odds for a one-unit change in the corresponding independent variable.\n",
    "\n",
    "7. Evaluating the Model: The performance of a logistic regression model can be evaluated using various metrics, such as accuracy, precision, recall, F1 score, and receiver operating characteristic (ROC) curve. These metrics help assess the model's ability to correctly classify observations and discriminate between the classes.\n",
    "\n",
    "8. Multiclass Classification: Logistic regression can also be extended for multiclass classification problems. One approach is to use multinomial logistic regression, which models the probabilities for each class using a softmax function.\n",
    "\n",
    "9. Assumptions: Logistic regression assumes that the observations are independent, the relationship between the independent variables and the log odds is linear, and there is no multicollinearity among the independent variables. It is also preferable to have a sufficient number of observations per predictor variable.\n",
    "\n",
    "10. Regularization: To address overfitting and improve generalization, logistic regression can be regularized using techniques like L1 regularization (Lasso) or L2 regularization (Ridge).\n",
    "\n",
    "Understanding logistic regression and its principles is crucial for applying this technique effectively in binary or multiclass classification problems. It allows for modeling the relationship between variables and making probabilistic predictions."
   ]
  },
  {
   "cell_type": "code",
   "execution_count": 66,
   "metadata": {},
   "outputs": [],
   "source": [
    "# Logistic regression is a popular supervised learning algorithm used for binary classification problems. \n",
    "# It models the relationship between the input features and the probability of the target variable belonging to a specific class.\n",
    "\n",
    "# Step 1: Importing Required Libraries\n",
    "# Before we begin, we need to import the necessary libraries. In this case, we'll need `numpy`, `matplotlib`, and `sklearn`.\n",
    "\n",
    "import numpy as np\n",
    "import matplotlib.pyplot as plt\n",
    "from sklearn.linear_model import LogisticRegression\n",
    "\n"
   ]
  },
  {
   "cell_type": "code",
   "execution_count": 67,
   "metadata": {},
   "outputs": [],
   "source": [
    "# Step 2: Generating Sample Data\n",
    "# To illustrate logistic regression, let's first generate some sample data. We'll create a simple dataset with two input features (X) and a binary target variable (y).\n",
    "\n",
    "# Generate sample data\n",
    "np.random.seed(0)\n",
    "X = np.random.randn(100, 2)  # Input features\n",
    "y = np.random.randint(0, 2, 100)  # Binary target variable\n",
    "\n"
   ]
  },
  {
   "cell_type": "code",
   "execution_count": 68,
   "metadata": {},
   "outputs": [
    {
     "data": {
      "text/plain": [
       "LogisticRegression()"
      ]
     },
     "execution_count": 68,
     "metadata": {},
     "output_type": "execute_result"
    }
   ],
   "source": [
    "# Step 3: Creating and Fitting the Logistic Regression Model\n",
    "# Next, we'll create an instance of the LogisticRegression class from sklearn and fit the model to our data.\n",
    "\n",
    "# Create logistic regression object\n",
    "model = LogisticRegression()\n",
    "\n",
    "# Fit the model to the data\n",
    "model.fit(X, y)\n"
   ]
  },
  {
   "cell_type": "code",
   "execution_count": 69,
   "metadata": {},
   "outputs": [],
   "source": [
    "# Step 4: Making Predictions\n",
    "# Once the model is fitted, we can use it to make predictions on new data. In this case, we'll make predictions on the same input features X that we used for training.\n",
    "\n",
    "# Make predictions\n",
    "y_pred = model.predict(X)\n",
    "\n",
    "\n",
    "# saving for evaluation metric section\n",
    "\n",
    "y_pred_log_reg = y_pred\n",
    "X_log_reg = X\n",
    "y_true_log_reg = y\n"
   ]
  },
  {
   "cell_type": "code",
   "execution_count": 70,
   "metadata": {},
   "outputs": [
    {
     "data": {
      "image/png": "[encoded data removed]",
      "text/plain": [
       "<Figure size 432x288 with 1 Axes>"
      ]
     },
     "metadata": {
      "needs_background": "light"
     },
     "output_type": "display_data"
    },
    {
     "name": "stdout",
     "output_type": "stream",
     "text": [
      "Coefficient:  [[-0.01959029  0.28702829]]\n",
      "Intercept:  [-0.04114245]\n",
      "Accuracy:  0.56\n"
     ]
    }
   ],
   "source": [
    "# Step 5: Visualizing the Results\n",
    "# To visualize the results, we'll plot the original data points and the decision boundary.\n",
    "\n",
    "# Plot the original data points\n",
    "plt.scatter(X[:, 0], X[:, 1], c=y, cmap='bwr', label='Actual')\n",
    "\n",
    "# Plot the decision boundary\n",
    "x_min, x_max = X[:, 0].min() - 1, X[:, 0].max() + 1\n",
    "y_min, y_max = X[:, 1].min() - 1, X[:, 1].max() + 1\n",
    "xx, yy = np.meshgrid(np.arange(x_min, x_max, 0.02),\n",
    "                     np.arange(y_min, y_max, 0.02))\n",
    "Z = model.predict(np.c_[xx.ravel(), yy.ravel()])\n",
    "Z = Z.reshape(xx.shape)\n",
    "plt.contourf(xx, yy, Z, cmap='bwr', alpha=0.3)\n",
    "\n",
    "# Add labels and title\n",
    "plt.xlabel('X1')\n",
    "plt.ylabel('X2')\n",
    "plt.title('Logistic Regression')\n",
    "\n",
    "# Add legend\n",
    "plt.legend()\n",
    "\n",
    "# Show the plot\n",
    "plt.show()\n",
    "\n",
    "# This will display a scatter plot of the original data points, where the color represents the actual target values, and the decision boundary that separates the two classes.\n",
    "\n",
    "# Logistic regression in scikit-learn also provides additional functionalities, such as coefficient estimates, intercept, and evaluation metrics. Here are a few examples:\n",
    "\n",
    "# Coefficient estimates\n",
    "print(\"Coefficient: \", model.coef_)\n",
    "\n",
    "# Intercept\n",
    "print(\"Intercept: \", model.intercept_)\n",
    "\n",
    "# Accuracy score (model evaluation)\n",
    "from sklearn.metrics import accuracy_score\n",
    "accuracy = accuracy_score(y, y_pred)\n",
    "print(\"Accuracy: \", accuracy)\n",
    "\n",
    "# The code above demonstrates how to access the coefficient estimates, intercept, and compute the accuracy score using the trained logistic regression model."
   ]
  },
  {
   "attachments": {},
   "cell_type": "markdown",
   "metadata": {},
   "source": [
    "## Support Vector Machines (SVMs)\n",
    "\n",
    "Here are some key pointers about Support Vector Machines (SVM):\n",
    "\n",
    "1. Purpose: SVM is a powerful supervised machine learning algorithm used for classification and regression tasks. It is particularly effective in handling complex decision boundaries and high-dimensional datasets.\n",
    "\n",
    "2. Margin Maximization: SVM aims to find the optimal hyperplane that maximizes the margin between different classes. The margin is the distance between the hyperplane and the nearest data points of each class. By maximizing the margin, SVM seeks to achieve better generalization and robustness.\n",
    "\n",
    "3. Linear and Nonlinear SVM: SVM can handle both linearly separable and non-linearly separable datasets. In the case of linearly separable data, a linear SVM is used. For non-linear data, SVM employs the kernel trick, which maps the data into a higher-dimensional space where it can be linearly separated.\n",
    "\n",
    "4. Support Vectors: Support vectors are the data points that lie closest to the decision boundary. These points play a crucial role in defining the hyperplane. SVM focuses on these support vectors to make predictions and determine the decision boundary.\n",
    "\n",
    "5. Kernel Functions: Kernel functions allow SVM to effectively handle non-linear data by mapping it to a higher-dimensional feature space. Common kernel functions include linear, polynomial, Gaussian Radial Basis Function (RBF), and sigmoid. The choice of the kernel function depends on the data and the complexity of the decision boundary.\n",
    "\n",
    "6. C and Gamma Parameters: SVM has two important parameters: C and gamma. The C parameter controls the trade-off between achieving a wider margin and correctly classifying training points. A smaller C value creates a wider margin but may result in misclassification. The gamma parameter controls the influence of a single training example and affects the smoothness of the decision boundary.\n",
    "\n",
    "7. Multi-Class Classification: SVM can be extended for multi-class classification using different strategies, such as one-vs-one and one-vs-rest. In one-vs-one, a separate binary SVM is trained for each pair of classes. In one-vs-rest, a separate SVM is trained for each class against the rest.\n",
    "\n",
    "8. Outliers: SVM is generally robust to outliers due to the focus on support vectors. Outliers that lie far from the decision boundary have less impact on the model.\n",
    "\n",
    "9. Evaluating the Model: SVM can be evaluated using various metrics, including accuracy, precision, recall, F1 score, and receiver operating characteristic (ROC) curve. These metrics assess the performance of the SVM in terms of classification accuracy and predictive power.\n",
    "\n",
    "10. Advantages: SVM is effective in handling high-dimensional data, provides robust generalization, and works well with both linearly separable and non-linearly separable data. It also has solid theoretical foundations.\n",
    "\n",
    "Understanding SVM and its principles is crucial for effectively applying this algorithm in classification tasks. It provides a powerful tool for creating decision boundaries and handling complex datasets."
   ]
  },
  {
   "attachments": {},
   "cell_type": "markdown",
   "metadata": {},
   "source": [
    "### Support Vector Classifier (SVC)\n",
    "\n",
    "Support Vector Classification (SVC) is a variant of Support Vector Machines (SVM) used for binary classification tasks. \n",
    "\n",
    "SVC aims to find an optimal hyperplane that maximally separates the two classes while minimizing the classification error. "
   ]
  },
  {
   "cell_type": "code",
   "execution_count": 71,
   "metadata": {},
   "outputs": [],
   "source": [
    "# Support Vector Classification (SVC) is a popular supervised learning algorithm used for classification tasks. \n",
    "# It constructs a hyperplane or set of hyperplanes in a high-dimensional space to separate different classes.\n",
    "\n",
    "# Step 1: Importing Required Libraries\n",
    "# Before we begin, we need to import the necessary libraries. In this case, we'll need `numpy`, `matplotlib`, and `sklearn`.\n",
    "\n",
    "import numpy as np\n",
    "import matplotlib.pyplot as plt\n",
    "from sklearn.svm import SVC\n",
    "\n"
   ]
  },
  {
   "cell_type": "code",
   "execution_count": 72,
   "metadata": {},
   "outputs": [],
   "source": [
    "# Step 2: Generating Sample Data\n",
    "# To illustrate SVC, let's first generate some sample data. We'll create a simple dataset with two input features (X) and a binary target variable (y).\n",
    "\n",
    "# Generate sample data\n",
    "np.random.seed(0)\n",
    "X = np.random.randn(100, 2)  # Input features\n",
    "y = np.random.randint(0, 2, 100)  # Binary target variable\n",
    "\n"
   ]
  },
  {
   "cell_type": "code",
   "execution_count": 73,
   "metadata": {},
   "outputs": [
    {
     "data": {
      "text/plain": [
       "SVC(kernel='linear')"
      ]
     },
     "execution_count": 73,
     "metadata": {},
     "output_type": "execute_result"
    }
   ],
   "source": [
    "# Step 3: Creating and Fitting the SVC Model\n",
    "# Next, we'll create an instance of the SVC class from sklearn and fit the model to our data.\n",
    "\n",
    "# Create SVC object\n",
    "model = SVC(kernel='linear')\n",
    "\n",
    "# Fit the model to the data\n",
    "model.fit(X, y)\n",
    "\n"
   ]
  },
  {
   "cell_type": "code",
   "execution_count": 74,
   "metadata": {},
   "outputs": [],
   "source": [
    "# Step 4: Making Predictions\n",
    "# Once the model is fitted, we can use it to make predictions on new data. In this case, we'll make predictions on the same input features X that we used for training.\n",
    "\n",
    "# Make predictions\n",
    "y_pred = model.predict(X)\n",
    "\n"
   ]
  },
  {
   "cell_type": "code",
   "execution_count": 75,
   "metadata": {},
   "outputs": [
    {
     "data": {
      "image/png": "[encoded data removed]",
      "text/plain": [
       "<Figure size 432x288 with 1 Axes>"
      ]
     },
     "metadata": {
      "needs_background": "light"
     },
     "output_type": "display_data"
    }
   ],
   "source": [
    "# Step 5: Visualizing the Results\n",
    "# To visualize the results, we'll plot the original data points and the decision boundary.\n",
    "\n",
    "# Plot the original data points\n",
    "plt.scatter(X[:, 0], X[:, 1], c=y, cmap='bwr', label='Actual')\n",
    "\n",
    "# Plot the decision boundary\n",
    "ax = plt.gca()\n",
    "xlim = ax.get_xlim()\n",
    "ylim = ax.get_ylim()\n",
    "\n",
    "xx = np.linspace(xlim[0], xlim[1], 30)\n",
    "yy = np.linspace(ylim[0], ylim[1], 30)\n",
    "YY, XX = np.meshgrid(yy, xx)\n",
    "xy = np.vstack([XX.ravel(), YY.ravel()]).T\n",
    "Z = model.decision_function(xy).reshape(XX.shape)\n",
    "\n",
    "ax.contour(XX, YY, Z, colors='k', levels=[-1, 0, 1], alpha=0.5,\n",
    "           linestyles=['--', '-', '--'])\n",
    "ax.scatter(model.support_vectors_[:, 0], model.support_vectors_[:, 1],\n",
    "           s=100, linewidth=1, facecolors='none', edgecolors='k')\n",
    "\n",
    "# Add labels and title\n",
    "plt.xlabel('X1')\n",
    "plt.ylabel('X2')\n",
    "plt.title('Support Vector Classification')\n",
    "\n",
    "# Add legend\n",
    "plt.legend()\n",
    "\n",
    "# Show the plot\n",
    "plt.show()\n",
    "\n",
    "# This will display a scatter plot of the original data points, where the color represents the actual target values, and the decision boundary determined by the SVC model.\n",
    "\n",
    "# SVC in scikit-learn provides various options and parameters to customize the model, such as the choice of kernel, regularization parameter C, \n",
    "# and gamma. You can experiment with these parameters to improve the model's performance on different datasets.\n"
   ]
  },
  {
   "attachments": {},
   "cell_type": "markdown",
   "metadata": {},
   "source": [
    "### Support Vector Regressor (SVR)\n",
    "\n",
    "Support Vector Regression (SVR) is a variant of Support Vector Machines (SVM) used for regression tasks. \n",
    "\n",
    "SVR aims to find a hyperplane that minimizes the error between predicted and actual values. It utilizes support vectors and kernel functions to handle non-linear data and provides robust regression modeling."
   ]
  },
  {
   "cell_type": "code",
   "execution_count": 76,
   "metadata": {},
   "outputs": [],
   "source": [
    "# Support Vector Regression (SVR) is a supervised learning algorithm used for regression tasks. \n",
    "# It extends the concepts of Support Vector Machines (SVM) for classification to the regression setting.\n",
    "\n",
    "# Step 1: Importing Required Libraries\n",
    "# Before we begin, we need to import the necessary libraries. In this case, we'll need `numpy`, `matplotlib`, and `sklearn`.\n",
    "\n",
    "import numpy as np\n",
    "import matplotlib.pyplot as plt\n",
    "from sklearn.svm import SVR\n",
    "\n"
   ]
  },
  {
   "cell_type": "code",
   "execution_count": 77,
   "metadata": {},
   "outputs": [],
   "source": [
    "# Step 2: Generating Sample Data\n",
    "# To illustrate SVR, let's first generate some sample data. We'll create a simple dataset with a single input feature (X) and a continuous target variable (y).\n",
    "\n",
    "# Generate sample data\n",
    "np.random.seed(0)\n",
    "X = np.sort(5 * np.random.rand(100, 1), axis=0)  # Input feature\n",
    "y = np.sin(X).ravel()  # Target variable\n",
    "\n"
   ]
  },
  {
   "cell_type": "code",
   "execution_count": 78,
   "metadata": {},
   "outputs": [
    {
     "data": {
      "text/plain": [
       "SVR(epsilon=0.2)"
      ]
     },
     "execution_count": 78,
     "metadata": {},
     "output_type": "execute_result"
    }
   ],
   "source": [
    "# Step 3: Creating and Fitting the SVR Model\n",
    "# Next, we'll create an instance of the SVR class from sklearn and fit the model to our data.\n",
    "\n",
    "# Create SVR object\n",
    "model = SVR(kernel='rbf', C=1.0, epsilon=0.2)\n",
    "\n",
    "# Fit the model to the data\n",
    "model.fit(X, y)\n",
    "\n"
   ]
  },
  {
   "cell_type": "code",
   "execution_count": 79,
   "metadata": {},
   "outputs": [],
   "source": [
    "# Step 4: Making Predictions\n",
    "# Once the model is fitted, we can use it to make predictions on new data. In this case, we'll make predictions on the same input feature X that we used for training.\n",
    "\n",
    "# Make predictions\n",
    "y_pred = model.predict(X)\n",
    "\n"
   ]
  },
  {
   "cell_type": "code",
   "execution_count": 80,
   "metadata": {},
   "outputs": [
    {
     "data": {
      "image/png": "[encoded data removed]",
      "text/plain": [
       "<Figure size 432x288 with 1 Axes>"
      ]
     },
     "metadata": {
      "needs_background": "light"
     },
     "output_type": "display_data"
    }
   ],
   "source": [
    "# Step 5: Visualizing the Results\n",
    "# To visualize the results, we'll plot the original data points and the regression line.\n",
    "\n",
    "# Plot the original data points\n",
    "plt.scatter(X, y, color='blue', label='Actual')\n",
    "\n",
    "# Plot the regression line\n",
    "plt.plot(X, y_pred, color='red', linewidth=2, label='Predicted')\n",
    "\n",
    "# Add labels and title\n",
    "plt.xlabel('X')\n",
    "plt.ylabel('y')\n",
    "plt.title('Support Vector Regression')\n",
    "\n",
    "# Add legend\n",
    "plt.legend()\n",
    "\n",
    "# Show the plot\n",
    "plt.show()\n",
    "\n",
    "# This will display a scatter plot of the original data points in blue, and the regression line (predicted values) in red.\n",
    "\n",
    "# SVR in scikit-learn provides various options and parameters to customize the model, such as the choice of kernel, regularization parameter C, and epsilon. \n",
    "# You can experiment with these parameters to improve the model's performance on different datasets."
   ]
  },
  {
   "attachments": {},
   "cell_type": "markdown",
   "metadata": {},
   "source": [
    "## Principal Component Analysis (PCA)\n",
    "\n",
    "Principal Component Analysis (PCA) is a dimensionality reduction technique used to transform high-dimensional data into a lower-dimensional representation. \n",
    "\n",
    "It identifies the directions of maximum variance, known as principal components, to simplify data, remove noise, and aid in visualization and analysis."
   ]
  },
  {
   "cell_type": "code",
   "execution_count": 81,
   "metadata": {},
   "outputs": [],
   "source": [
    "# Principal Component Analysis (PCA) is a popular unsupervised learning algorithm used for dimensionality reduction. \n",
    "# It transforms a high-dimensional dataset into a lower-dimensional space by finding the directions (principal components) that capture the maximum variance in the data.\n",
    "\n",
    "# Step 1: Importing Required Libraries\n",
    "# Before we begin, we need to import the necessary libraries. In this case, we'll need `numpy`, `matplotlib`, and `sklearn`.\n",
    "\n",
    "import numpy as np\n",
    "import matplotlib.pyplot as plt\n",
    "from sklearn.decomposition import PCA\n",
    "\n"
   ]
  },
  {
   "cell_type": "code",
   "execution_count": 82,
   "metadata": {},
   "outputs": [],
   "source": [
    "# Step 2: Generating Sample Data\n",
    "# To illustrate PCA, let's first generate some sample data. We'll create a simple dataset with multiple input features.\n",
    "\n",
    "# Generate sample data\n",
    "np.random.seed(0)\n",
    "X = np.random.randn(100, 4)  # Input features\n",
    "\n"
   ]
  },
  {
   "cell_type": "code",
   "execution_count": 83,
   "metadata": {},
   "outputs": [],
   "source": [
    "# Step 3: Performing PCA\n",
    "# Next, we'll perform PCA on the data. We'll create an instance of the PCA class from sklearn and fit_transform the data to obtain the principal components.\n",
    "\n",
    "# Create PCA object\n",
    "pca = PCA(n_components=2)\n",
    "\n",
    "# Fit the model to the data and transform the data\n",
    "X_pca = pca.fit_transform(X)\n",
    "\n"
   ]
  },
  {
   "cell_type": "code",
   "execution_count": 84,
   "metadata": {},
   "outputs": [
    {
     "data": {
      "image/png": "[encoded data removed]",
      "text/plain": [
       "<Figure size 432x288 with 1 Axes>"
      ]
     },
     "metadata": {
      "needs_background": "light"
     },
     "output_type": "display_data"
    },
    {
     "name": "stdout",
     "output_type": "stream",
     "text": [
      "Explained Variance Ratio:  [0.32098794 0.27960649]\n",
      "Principal Components:  [[-0.92849487  0.03858752 -0.27751438 -0.24370893]\n",
      " [-0.17368424  0.82949171  0.45197924  0.27837394]]\n"
     ]
    }
   ],
   "source": [
    "# Step 4: Visualizing the Results\n",
    "# To visualize the results, we'll plot the transformed data.\n",
    "\n",
    "# Plot the transformed data\n",
    "plt.scatter(X_pca[:, 0], X_pca[:, 1])\n",
    "\n",
    "# Add labels and title\n",
    "plt.xlabel('Principal Component 1')\n",
    "plt.ylabel('Principal Component 2')\n",
    "plt.title('PCA')\n",
    "\n",
    "# Show the plot\n",
    "plt.show()\n",
    "\n",
    "# This will display a scatter plot of the transformed data points, where the x-axis represents the first principal component and the y-axis represents the second principal component.\n",
    "\n",
    "# PCA in scikit-learn provides additional functionalities, such as accessing the explained variance ratio and the components. Here are a few examples:\n",
    "\n",
    "# Explained variance ratio\n",
    "print(\"Explained Variance Ratio: \", pca.explained_variance_ratio_)\n",
    "\n",
    "# Principal components\n",
    "print(\"Principal Components: \", pca.components_)\n",
    "\n",
    "# The code above demonstrates how to access the explained variance ratio and the principal components using the trained PCA model.\n"
   ]
  },
  {
   "attachments": {},
   "cell_type": "markdown",
   "metadata": {},
   "source": [
    "## K-Means Clustering\n",
    "\n",
    "Here are some key pointers about K-means clustering:\n",
    "\n",
    "1. Unsupervised Learning: K-means clustering is an unsupervised learning algorithm used for grouping similar data points into clusters based on their feature similarity.\n",
    "\n",
    "2. Centroid-Based Clustering: K-means clustering uses centroid-based partitioning to form clusters. It initializes K centroids and assigns data points to the nearest centroid, iteratively updating the centroids until convergence.\n",
    "\n",
    "3. Euclidean Distance: K-means clustering typically uses the Euclidean distance metric to measure the similarity between data points and centroids. It computes the distance as the square root of the sum of squared differences between corresponding feature values.\n",
    "\n",
    "4. Number of Clusters (K): The number of clusters in K-means clustering needs to be specified in advance. Determining the optimal number of clusters is often done using techniques like the elbow method, silhouette score, or domain knowledge.\n",
    "\n",
    "5. Random Initialization: K-means clustering is sensitive to the initial placement of centroids. It uses random initialization by default, but it can also be initialized using other techniques like K-means++ for better convergence.\n",
    "\n",
    "6. Iterative Optimization: K-means clustering iteratively optimizes the position of centroids to minimize the within-cluster sum of squares (WCSS) or the sum of squared distances between data points and their assigned centroids.\n",
    "\n",
    "7. Cluster Assignment and Centroid Update: In each iteration, K-means assigns data points to their closest centroids and updates the centroids by computing the mean of the assigned data points.\n",
    "\n",
    "8. Convergence Criteria: K-means clustering terminates when the centroids no longer change significantly or when a maximum number of iterations is reached.\n",
    "\n",
    "9. Cluster Interpretation: After clustering, the resulting clusters can be analyzed to understand patterns, similarities, and differences in the data. Cluster evaluation can be performed using metrics like silhouette score or cohesion and separation measures.\n",
    "\n",
    "10. Limitations: K-means clustering is sensitive to outliers and the initial centroid placement. It also assumes that clusters are isotropic, equally sized, and have similar densities. It may not perform well with non-linear or irregularly shaped clusters.\n",
    "\n",
    "Understanding the principles and considerations of K-means clustering helps in applying it effectively for unsupervised clustering tasks and exploring data patterns."
   ]
  },
  {
   "cell_type": "code",
   "execution_count": 85,
   "metadata": {},
   "outputs": [],
   "source": [
    "# K-Means Clustering is a popular unsupervised learning algorithm used for clustering tasks. \n",
    "# It divides the data into K clusters by minimizing the sum of squared distances between the data points and their cluster centroids.\n",
    "\n",
    "# Step 1: Importing Required Libraries\n",
    "# Before we begin, we need to import the necessary libraries. In this case, we'll need `numpy`, `matplotlib`, and `sklearn`.\n",
    "\n",
    "import numpy as np\n",
    "import matplotlib.pyplot as plt\n",
    "from sklearn.cluster import KMeans\n",
    "\n"
   ]
  },
  {
   "cell_type": "code",
   "execution_count": 86,
   "metadata": {},
   "outputs": [],
   "source": [
    "# Step 2: Generating Sample Data\n",
    "# To illustrate K-Means Clustering, let's first generate some sample data. We'll create a simple dataset with two input features.\n",
    "\n",
    "# Generate sample data\n",
    "np.random.seed(0)\n",
    "X = np.random.randn(100, 2)  # Input features\n",
    "\n"
   ]
  },
  {
   "cell_type": "code",
   "execution_count": 87,
   "metadata": {},
   "outputs": [
    {
     "data": {
      "text/plain": [
       "KMeans(n_clusters=3)"
      ]
     },
     "execution_count": 87,
     "metadata": {},
     "output_type": "execute_result"
    }
   ],
   "source": [
    "# Step 3: Creating and Fitting the K-Means Model\n",
    "# Next, we'll create an instance of the KMeans class from sklearn and fit the model to our data.\n",
    "\n",
    "# Create KMeans object\n",
    "kmeans = KMeans(n_clusters=3)\n",
    "\n",
    "# Fit the model to the data\n",
    "kmeans.fit(X)\n",
    "\n"
   ]
  },
  {
   "cell_type": "code",
   "execution_count": 88,
   "metadata": {},
   "outputs": [],
   "source": [
    "# Step 4: Obtaining Cluster Assignments and Centroids\n",
    "# Once the model is fitted, we can obtain the cluster assignments and centroids.\n",
    "\n",
    "# Get cluster assignments\n",
    "labels = kmeans.labels_\n",
    "\n",
    "# Get cluster centroids\n",
    "centroids = kmeans.cluster_centers_\n",
    "\n"
   ]
  },
  {
   "cell_type": "code",
   "execution_count": 89,
   "metadata": {},
   "outputs": [
    {
     "data": {
      "image/png": "[encoded data removed]",
      "text/plain": [
       "<Figure size 432x288 with 1 Axes>"
      ]
     },
     "metadata": {
      "needs_background": "light"
     },
     "output_type": "display_data"
    }
   ],
   "source": [
    "# Step 5: Visualizing the Results\n",
    "# To visualize the results, we'll plot the data points with different colors representing different clusters, and mark the cluster centroids.\n",
    "\n",
    "# Plot the data points\n",
    "plt.scatter(X[:, 0], X[:, 1], c=labels)\n",
    "\n",
    "# Plot the cluster centroids\n",
    "plt.scatter(centroids[:, 0], centroids[:, 1], marker='x', color='red')\n",
    "\n",
    "# Add labels and title\n",
    "plt.xlabel('X1')\n",
    "plt.ylabel('X2')\n",
    "plt.title('K-Means Clustering')\n",
    "\n",
    "# Show the plot\n",
    "plt.show()\n",
    "\n",
    "# This will display a scatter plot of the data points, where the color represents the cluster assignment, and the red crosses represent the cluster centroids.\n",
    "\n",
    "# K-Means Clustering in scikit-learn provides various options and parameters to customize the model, such as the number of clusters (K), \n",
    "# initialization method, and convergence criteria. You can experiment with these parameters to improve the clustering performance on different datasets.\n"
   ]
  },
  {
   "attachments": {},
   "cell_type": "markdown",
   "metadata": {},
   "source": [
    "## Important Machine Learning Processes"
   ]
  },
  {
   "cell_type": "code",
   "execution_count": 90,
   "metadata": {},
   "outputs": [],
   "source": [
    "# 1. Train-Test Split:\n",
    "# Train-Test Split is a technique used to evaluate the performance of a machine learning model. It involves splitting the dataset into two subsets: the training set and the test set.\n",
    "\n",
    "from sklearn.model_selection import train_test_split\n",
    "\n",
    "# Split the data into training and test sets\n",
    "X_train, X_test, y_train, y_test = train_test_split(X_log_reg, y_true_log_reg, test_size=0.2, random_state=42)\n",
    "\n",
    "# In the code above, `X` represents the input features, `y` represents the target variable, and `test_size` indicates the proportion of the data to be used for testing (e.g., 0.2 for 20% test set).\n",
    "\n"
   ]
  },
  {
   "cell_type": "code",
   "execution_count": 91,
   "metadata": {},
   "outputs": [
    {
     "name": "stdout",
     "output_type": "stream",
     "text": [
      "{'C': 0.1, 'kernel': 'linear'}\n"
     ]
    }
   ],
   "source": [
    "# 2. Grid Search:\n",
    "# Grid Search is a technique used to find the best hyperparameters for a machine learning model. It involves defining a grid of hyperparameter values and evaluating the model's performance for each combination of hyperparameters.\n",
    "\n",
    "from sklearn.model_selection import GridSearchCV\n",
    "from sklearn.svm import SVC\n",
    "\n",
    "# Define the hyperparameter grid\n",
    "param_grid = {'C': [0.1, 1, 10], 'kernel': ['linear', 'rbf']}\n",
    "\n",
    "# Create the GridSearchCV object\n",
    "grid_search = GridSearchCV(SVC(), param_grid, cv=5)\n",
    "\n",
    "# Fit the model to the training data\n",
    "grid_search.fit(X_train, y_train)\n",
    "\n",
    "# Get the best hyperparameters\n",
    "best_params = grid_search.best_params_\n",
    "\n",
    "print(best_params)\n",
    "\n",
    "# In the code above, we define a grid of hyperparameters (`C` and `kernel` for an SVM model) and create a GridSearchCV object. We then fit the model to the training data and obtain the best hyperparameters using `best_params_`.\n",
    "\n"
   ]
  },
  {
   "cell_type": "code",
   "execution_count": 92,
   "metadata": {},
   "outputs": [
    {
     "name": "stdout",
     "output_type": "stream",
     "text": [
      "0.55\n"
     ]
    }
   ],
   "source": [
    "# 3. Cross-Validation (with Grid Search):\n",
    "# Cross-Validation is a technique used to evaluate a model's performance by splitting the data into multiple subsets (folds) and iteratively training and testing the model on different combinations of folds.\n",
    "\n",
    "from sklearn.model_selection import cross_val_score\n",
    "from sklearn.svm import SVC\n",
    "\n",
    "# Create the SVM model\n",
    "model = SVC(C=1, kernel='linear')\n",
    "\n",
    "# Perform cross-validation\n",
    "scores = cross_val_score(model, X_train, y_train, cv=5)\n",
    "\n",
    "# Get the average accuracy score\n",
    "avg_score = np.mean(scores)\n",
    "\n",
    "print(avg_score)\n",
    "\n",
    "# In the code above, we create an SVM model with fixed hyperparameters (`C=1` and `kernel='linear'`). We then perform cross-validation using `cross_val_score` and obtain the average accuracy score across the folds.\n",
    "\n"
   ]
  },
  {
   "cell_type": "code",
   "execution_count": 93,
   "metadata": {},
   "outputs": [
    {
     "name": "stdout",
     "output_type": "stream",
     "text": [
      "0.45\n"
     ]
    }
   ],
   "source": [
    "# 4. Cross-Validation without Grid Search:\n",
    "# Cross-Validation can also be performed without using Grid Search, where the model is trained and tested on different folds manually.\n",
    "\n",
    "from sklearn.model_selection import KFold\n",
    "from sklearn.linear_model import LogisticRegression\n",
    "\n",
    "# Create the Logistic Regression model\n",
    "model = LogisticRegression()\n",
    "\n",
    "# Perform cross-validation without Grid Search\n",
    "kf = KFold(n_splits=5)\n",
    "scores = []\n",
    "\n",
    "for train_index, test_index in kf.split(X):\n",
    "    X_train, X_test = X_log_reg[train_index], X_log_reg[test_index]\n",
    "    y_train, y_test = y_true_log_reg[train_index], y_true_log_reg[test_index]\n",
    "    model.fit(X_train, y_train)\n",
    "    score = model.score(X_test, y_test)\n",
    "    scores.append(score)\n",
    "\n",
    "# Get the average accuracy score\n",
    "avg_score = np.mean(scores)\n",
    "\n",
    "print(avg_score)\n",
    "\n",
    "# In the code above, we create a Logistic Regression model. We then manually perform cross-validation using `KFold`, where the data is split into 5 folds. The"
   ]
  },
  {
   "attachments": {},
   "cell_type": "markdown",
   "metadata": {},
   "source": [
    "## Evaluation Metrics"
   ]
  },
  {
   "attachments": {},
   "cell_type": "markdown",
   "metadata": {},
   "source": [
    "### 1. Linear Regression Metrics:"
   ]
  },
  {
   "cell_type": "code",
   "execution_count": 94,
   "metadata": {},
   "outputs": [
    {
     "name": "stdout",
     "output_type": "stream",
     "text": [
      "0.9924386487246482\n"
     ]
    }
   ],
   "source": [
    "# Linear Regression is commonly used for regression tasks, where the target variable is continuous. Some commonly used metrics for evaluating Linear Regression models are:\n",
    "\n",
    "# - Mean Squared Error (MSE): Measures the average squared difference between the predicted and actual values.\n",
    "\n",
    "from sklearn.metrics import mean_squared_error\n",
    "\n",
    "# Calculate the mean squared error\n",
    "mse = mean_squared_error(y_true_lin_reg, y_pred_lin_reg)\n",
    "\n",
    "print(mse)\n",
    "\n"
   ]
  },
  {
   "cell_type": "code",
   "execution_count": 95,
   "metadata": {},
   "outputs": [
    {
     "name": "stdout",
     "output_type": "stream",
     "text": [
      "0.9962121504602562\n"
     ]
    }
   ],
   "source": [
    "# - Root Mean Squared Error (RMSE): Represents the square root of the mean squared error, providing a measure of the average absolute difference between the predicted and actual values.\n",
    "\n",
    "from sklearn.metrics import mean_squared_error\n",
    "\n",
    "# Calculate the root mean squared error\n",
    "rmse = np.sqrt(mean_squared_error(y_true_lin_reg, y_pred_lin_reg))\n",
    "\n",
    "print(rmse)\n",
    "\n"
   ]
  },
  {
   "cell_type": "code",
   "execution_count": 96,
   "metadata": {},
   "outputs": [
    {
     "name": "stdout",
     "output_type": "stream",
     "text": [
      "0.41941554964783967\n"
     ]
    }
   ],
   "source": [
    "# - R-Squared (R^2) Score: Indicates the proportion of the variance in the target variable that is predictable from the input features. It ranges from 0 to 1, where 1 represents a perfect fit.\n",
    "\n",
    "from sklearn.metrics import r2_score\n",
    "\n",
    "# Calculate the R-squared score\n",
    "r2 = r2_score(y_true_lin_reg, y_pred_lin_reg)\n",
    "\n",
    "print(r2)\n"
   ]
  },
  {
   "attachments": {},
   "cell_type": "markdown",
   "metadata": {},
   "source": [
    "### 2. Logistic Regression Metrics:"
   ]
  },
  {
   "cell_type": "code",
   "execution_count": 97,
   "metadata": {},
   "outputs": [
    {
     "name": "stdout",
     "output_type": "stream",
     "text": [
      "0.56\n"
     ]
    }
   ],
   "source": [
    "# Logistic Regression is commonly used for binary classification tasks, where the target variable has two classes. Some commonly used metrics for evaluating Logistic Regression models are:\n",
    "\n",
    "# - Accuracy: Measures the proportion of correctly classified samples.\n",
    "\n",
    "from sklearn.metrics import accuracy_score\n",
    "\n",
    "# Calculate the accuracy\n",
    "accuracy = accuracy_score(y_true_log_reg, y_pred_log_reg)\n",
    "\n",
    "print(accuracy)\n",
    "\n"
   ]
  },
  {
   "cell_type": "code",
   "execution_count": 98,
   "metadata": {},
   "outputs": [
    {
     "name": "stdout",
     "output_type": "stream",
     "text": [
      "0.56\n"
     ]
    }
   ],
   "source": [
    "# - Precision: Represents the proportion of correctly predicted positive samples out of all predicted positive samples.\n",
    "\n",
    "from sklearn.metrics import precision_score\n",
    "\n",
    "# Calculate the precision\n",
    "precision = precision_score(y_true_log_reg, y_pred_log_reg)\n",
    "\n",
    "print(precision)\n"
   ]
  },
  {
   "cell_type": "code",
   "execution_count": 99,
   "metadata": {},
   "outputs": [
    {
     "name": "stdout",
     "output_type": "stream",
     "text": [
      "0.56\n"
     ]
    }
   ],
   "source": [
    "# - Recall: Indicates the proportion of correctly predicted positive samples out of all actual positive samples.\n",
    "\n",
    "from sklearn.metrics import recall_score\n",
    "\n",
    "# Calculate the recall\n",
    "recall = recall_score(y_true_log_reg, y_pred_log_reg)\n",
    "\n",
    "print(recall)\n"
   ]
  },
  {
   "cell_type": "code",
   "execution_count": 100,
   "metadata": {},
   "outputs": [
    {
     "name": "stdout",
     "output_type": "stream",
     "text": [
      "0.56\n"
     ]
    }
   ],
   "source": [
    "# - F1-Score: Harmonic mean of precision and recall, providing a balanced measure of the model's performance.\n",
    "\n",
    "from sklearn.metrics import f1_score\n",
    "\n",
    "# Calculate the F1-score\n",
    "f1 = f1_score(y_true_log_reg, y_pred_log_reg)\n",
    "\n",
    "print(f1)\n",
    "\n",
    "# In the code examples above, `y_true` represents the true target values, and `y_pred` represents the predicted values from the model.\n",
    "\n",
    "# These are just a few examples of evaluation metrics for Linear Regression and Logistic Regression. scikit-learn provides many more metrics to evaluate model performance. \n",
    "# You can explore the scikit-learn documentation to find additional metrics based on your specific needs."
   ]
  },
  {
   "cell_type": "code",
   "execution_count": null,
   "metadata": {},
   "outputs": [],
   "source": []
  }
 ],
 "metadata": {
  "kernelspec": {
   "display_name": "base",
   "language": "python",
   "name": "python3"
  },
  "language_info": {
   "codemirror_mode": {
    "name": "ipython",
    "version": 3
   },
   "file_extension": ".py",
   "mimetype": "text/x-python",
   "name": "python",
   "nbconvert_exporter": "python",
   "pygments_lexer": "ipython3",
   "version": "3.9.12"
  },
  "orig_nbformat": 4
 },
 "nbformat": 4,
 "nbformat_minor": 2
}
